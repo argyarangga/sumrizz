{
 "cells": [
  {
   "cell_type": "markdown",
   "metadata": {
    "gradient": {
     "editing": false
    }
   },
   "source": [
    "# Text Summarization With Encoder-Decoder Sequence-to-Sequence Models (Seq2Seq)\n",
    "\n",
    "For a more detailed breakdown of the code, check out [Part 1](https://blog.paperspace.com/introduction-to-seq2seq-models/) of the seq2seq series covering theory and data preparation, then [Part 2](https://blog.paperspace.com/introduction-to-seq2seq-models/) which covers training and inference in more detail."
   ]
  },
  {
   "cell_type": "code",
   "execution_count": null,
   "metadata": {},
   "outputs": [],
   "source": [
    "# Download the data\n",
    "!wget https://s3.amazonaws.com/ps.public.resources/ml-showcase/news_summary.csv\n",
    "!wget https://s3.amazonaws.com/ps.public.resources/ml-showcase/news_summary_more.csv"
   ]
  },
  {
   "cell_type": "code",
   "execution_count": null,
   "metadata": {},
   "outputs": [],
   "source": [
    "# Install necessary libraries\n",
    "# Note: You may need to restart your kernel!\n",
    "!pip install -U pip setuptools wheel\n",
    "!pip install -U spacy\n",
    "!python -m spacy download en_core_web_sm\n",
    "!pip install pandas\n",
    "!pip3 install sklearn"
   ]
  },
  {
   "cell_type": "code",
   "execution_count": 1,
   "metadata": {
    "scrolled": true
   },
   "outputs": [
    {
     "name": "stdout",
     "output_type": "stream",
     "text": [
      "Collecting en-core-web-sm==3.5.0\n",
      "  Downloading https://github.com/explosion/spacy-models/releases/download/en_core_web_sm-3.5.0/en_core_web_sm-3.5.0-py3-none-any.whl (12.8 MB)\n",
      "\u001b[2K     \u001b[90m━━━━━━━━━━━━━━━━━━━━━━━━━━━━━━━━━━━━━━━━\u001b[0m \u001b[32m12.8/12.8 MB\u001b[0m \u001b[31m1.9 MB/s\u001b[0m eta \u001b[36m0:00:00\u001b[0m00:01\u001b[0m00:01\u001b[0m\n",
      "\u001b[?25hRequirement already satisfied: spacy<3.6.0,>=3.5.0 in /Users/macbook/anaconda3/lib/python3.11/site-packages (from en-core-web-sm==3.5.0) (3.5.3)\n",
      "Requirement already satisfied: spacy-legacy<3.1.0,>=3.0.11 in /Users/macbook/anaconda3/lib/python3.11/site-packages (from spacy<3.6.0,>=3.5.0->en-core-web-sm==3.5.0) (3.0.12)\n",
      "Requirement already satisfied: spacy-loggers<2.0.0,>=1.0.0 in /Users/macbook/anaconda3/lib/python3.11/site-packages (from spacy<3.6.0,>=3.5.0->en-core-web-sm==3.5.0) (1.0.4)\n",
      "Requirement already satisfied: murmurhash<1.1.0,>=0.28.0 in /Users/macbook/anaconda3/lib/python3.11/site-packages (from spacy<3.6.0,>=3.5.0->en-core-web-sm==3.5.0) (1.0.7)\n",
      "Requirement already satisfied: cymem<2.1.0,>=2.0.2 in /Users/macbook/anaconda3/lib/python3.11/site-packages (from spacy<3.6.0,>=3.5.0->en-core-web-sm==3.5.0) (2.0.6)\n",
      "Requirement already satisfied: preshed<3.1.0,>=3.0.2 in /Users/macbook/anaconda3/lib/python3.11/site-packages (from spacy<3.6.0,>=3.5.0->en-core-web-sm==3.5.0) (3.0.6)\n",
      "Requirement already satisfied: thinc<8.2.0,>=8.1.8 in /Users/macbook/anaconda3/lib/python3.11/site-packages (from spacy<3.6.0,>=3.5.0->en-core-web-sm==3.5.0) (8.1.10)\n",
      "Requirement already satisfied: wasabi<1.2.0,>=0.9.1 in /Users/macbook/anaconda3/lib/python3.11/site-packages (from spacy<3.6.0,>=3.5.0->en-core-web-sm==3.5.0) (0.9.1)\n",
      "Requirement already satisfied: srsly<3.0.0,>=2.4.3 in /Users/macbook/anaconda3/lib/python3.11/site-packages (from spacy<3.6.0,>=3.5.0->en-core-web-sm==3.5.0) (2.4.8)\n",
      "Requirement already satisfied: catalogue<2.1.0,>=2.0.6 in /Users/macbook/anaconda3/lib/python3.11/site-packages (from spacy<3.6.0,>=3.5.0->en-core-web-sm==3.5.0) (2.0.7)\n",
      "Requirement already satisfied: typer<0.8.0,>=0.3.0 in /Users/macbook/anaconda3/lib/python3.11/site-packages (from spacy<3.6.0,>=3.5.0->en-core-web-sm==3.5.0) (0.4.1)\n",
      "Requirement already satisfied: pathy>=0.10.0 in /Users/macbook/anaconda3/lib/python3.11/site-packages (from spacy<3.6.0,>=3.5.0->en-core-web-sm==3.5.0) (0.10.1)\n",
      "Requirement already satisfied: smart-open<7.0.0,>=5.2.1 in /Users/macbook/anaconda3/lib/python3.11/site-packages (from spacy<3.6.0,>=3.5.0->en-core-web-sm==3.5.0) (5.2.1)\n",
      "Requirement already satisfied: tqdm<5.0.0,>=4.38.0 in /Users/macbook/anaconda3/lib/python3.11/site-packages (from spacy<3.6.0,>=3.5.0->en-core-web-sm==3.5.0) (4.65.0)\n",
      "Requirement already satisfied: numpy>=1.15.0 in /Users/macbook/anaconda3/lib/python3.11/site-packages (from spacy<3.6.0,>=3.5.0->en-core-web-sm==3.5.0) (1.23.5)\n",
      "Requirement already satisfied: requests<3.0.0,>=2.13.0 in /Users/macbook/anaconda3/lib/python3.11/site-packages (from spacy<3.6.0,>=3.5.0->en-core-web-sm==3.5.0) (2.29.0)\n",
      "Requirement already satisfied: pydantic!=1.8,!=1.8.1,<1.11.0,>=1.7.4 in /Users/macbook/anaconda3/lib/python3.11/site-packages (from spacy<3.6.0,>=3.5.0->en-core-web-sm==3.5.0) (1.10.12)\n",
      "Requirement already satisfied: jinja2 in /Users/macbook/anaconda3/lib/python3.11/site-packages (from spacy<3.6.0,>=3.5.0->en-core-web-sm==3.5.0) (3.1.2)\n",
      "Requirement already satisfied: setuptools in /Users/macbook/anaconda3/lib/python3.11/site-packages (from spacy<3.6.0,>=3.5.0->en-core-web-sm==3.5.0) (67.8.0)\n",
      "Requirement already satisfied: packaging>=20.0 in /Users/macbook/anaconda3/lib/python3.11/site-packages (from spacy<3.6.0,>=3.5.0->en-core-web-sm==3.5.0) (23.0)\n",
      "Requirement already satisfied: langcodes<4.0.0,>=3.2.0 in /Users/macbook/anaconda3/lib/python3.11/site-packages (from spacy<3.6.0,>=3.5.0->en-core-web-sm==3.5.0) (3.3.0)\n",
      "Requirement already satisfied: typing-extensions>=4.2.0 in /Users/macbook/anaconda3/lib/python3.11/site-packages (from pydantic!=1.8,!=1.8.1,<1.11.0,>=1.7.4->spacy<3.6.0,>=3.5.0->en-core-web-sm==3.5.0) (4.6.3)\n",
      "Requirement already satisfied: charset-normalizer<4,>=2 in /Users/macbook/anaconda3/lib/python3.11/site-packages (from requests<3.0.0,>=2.13.0->spacy<3.6.0,>=3.5.0->en-core-web-sm==3.5.0) (2.0.4)\n",
      "Requirement already satisfied: idna<4,>=2.5 in /Users/macbook/anaconda3/lib/python3.11/site-packages (from requests<3.0.0,>=2.13.0->spacy<3.6.0,>=3.5.0->en-core-web-sm==3.5.0) (3.4)\n",
      "Requirement already satisfied: urllib3<1.27,>=1.21.1 in /Users/macbook/anaconda3/lib/python3.11/site-packages (from requests<3.0.0,>=2.13.0->spacy<3.6.0,>=3.5.0->en-core-web-sm==3.5.0) (1.26.16)\n",
      "Requirement already satisfied: certifi>=2017.4.17 in /Users/macbook/anaconda3/lib/python3.11/site-packages (from requests<3.0.0,>=2.13.0->spacy<3.6.0,>=3.5.0->en-core-web-sm==3.5.0) (2023.11.17)\n",
      "Requirement already satisfied: blis<0.8.0,>=0.7.8 in /Users/macbook/anaconda3/lib/python3.11/site-packages (from thinc<8.2.0,>=8.1.8->spacy<3.6.0,>=3.5.0->en-core-web-sm==3.5.0) (0.7.9)\n",
      "Requirement already satisfied: confection<1.0.0,>=0.0.1 in /Users/macbook/anaconda3/lib/python3.11/site-packages (from thinc<8.2.0,>=8.1.8->spacy<3.6.0,>=3.5.0->en-core-web-sm==3.5.0) (0.0.4)\n",
      "Requirement already satisfied: click<9.0.0,>=7.1.1 in /Users/macbook/anaconda3/lib/python3.11/site-packages (from typer<0.8.0,>=0.3.0->spacy<3.6.0,>=3.5.0->en-core-web-sm==3.5.0) (8.0.4)\n",
      "Requirement already satisfied: MarkupSafe>=2.0 in /Users/macbook/anaconda3/lib/python3.11/site-packages (from jinja2->spacy<3.6.0,>=3.5.0->en-core-web-sm==3.5.0) (2.1.1)\n",
      "\u001b[38;5;2m✔ Download and installation successful\u001b[0m\n",
      "You can now load the package via spacy.load('en_core_web_sm')\n"
     ]
    }
   ],
   "source": [
    "# Download necessary language package in spacy\n",
    "!python -m spacy download en_core_web_sm"
   ]
  },
  {
   "cell_type": "code",
   "execution_count": 2,
   "metadata": {
    "_cell_guid": "79c7e3d0-c299-4dcb-8224-4455121ee9b0",
    "_uuid": "d629ff2d2480ee46fbb7e2d37f6b5fab8052498a",
    "gradient": {}
   },
   "outputs": [],
   "source": [
    "import pandas as pd\n",
    "\n",
    "data1 = pd.read_csv('news_summary.csv', encoding='iso-8859-1')\n",
    "data2 = pd.read_csv('news_summary_more.csv', encoding='iso-8859-1')"
   ]
  },
  {
   "cell_type": "code",
   "execution_count": 3,
   "metadata": {
    "gradient": {}
   },
   "outputs": [],
   "source": [
    "df1 = data2.iloc[:, 0:2].copy()\n",
    "df2 = data1.iloc[:, 0:6].copy()\n",
    "\n",
    "# Concatenate dataframe 1 and dataframe 2 to create a more reliable model\n",
    "df2['text'] = df2['author'].str.cat(df2['date'].str.cat(df2['read_more'].str.cat(df2['text'].str.cat(df2['ctext'], sep = \" \"), sep = \" \"),sep = \" \"), sep = \" \")\n",
    "\n",
    "df = pd.DataFrame()\n",
    "df['text'] = pd.concat([df1['text'], df2['text']], ignore_index=True)\n",
    "df['summary'] = pd.concat([df1['headlines'],df2['headlines']], ignore_index = True)"
   ]
  },
  {
   "cell_type": "code",
   "execution_count": 4,
   "metadata": {
    "gradient": {}
   },
   "outputs": [
    {
     "data": {
      "text/html": [
       "<div>\n",
       "<style scoped>\n",
       "    .dataframe tbody tr th:only-of-type {\n",
       "        vertical-align: middle;\n",
       "    }\n",
       "\n",
       "    .dataframe tbody tr th {\n",
       "        vertical-align: top;\n",
       "    }\n",
       "\n",
       "    .dataframe thead th {\n",
       "        text-align: right;\n",
       "    }\n",
       "</style>\n",
       "<table border=\"1\" class=\"dataframe\">\n",
       "  <thead>\n",
       "    <tr style=\"text-align: right;\">\n",
       "      <th></th>\n",
       "      <th>text</th>\n",
       "      <th>summary</th>\n",
       "    </tr>\n",
       "  </thead>\n",
       "  <tbody>\n",
       "    <tr>\n",
       "      <th>0</th>\n",
       "      <td>Saurav Kant, an alumnus of upGrad and IIIT-B's...</td>\n",
       "      <td>upGrad learner switches to career in ML &amp; Al w...</td>\n",
       "    </tr>\n",
       "    <tr>\n",
       "      <th>1</th>\n",
       "      <td>Kunal Shah's credit card bill payment platform...</td>\n",
       "      <td>Delhi techie wins free food from Swiggy for on...</td>\n",
       "    </tr>\n",
       "  </tbody>\n",
       "</table>\n",
       "</div>"
      ],
      "text/plain": [
       "                                                text  \\\n",
       "0  Saurav Kant, an alumnus of upGrad and IIIT-B's...   \n",
       "1  Kunal Shah's credit card bill payment platform...   \n",
       "\n",
       "                                             summary  \n",
       "0  upGrad learner switches to career in ML & Al w...  \n",
       "1  Delhi techie wins free food from Swiggy for on...  "
      ]
     },
     "execution_count": 4,
     "metadata": {},
     "output_type": "execute_result"
    }
   ],
   "source": [
    "df.head(2)"
   ]
  },
  {
   "cell_type": "code",
   "execution_count": 5,
   "metadata": {
    "gradient": {}
   },
   "outputs": [],
   "source": [
    "import re\n",
    "\n",
    "# Remove non-alphabetic characters (Data Cleaning)\n",
    "def text_strip(column):\n",
    "    \n",
    "    for row in column:        \n",
    "        row = re.sub(\"(\\\\t)\", ' ', str(row)).lower() \n",
    "        row = re.sub(\"(\\\\r)\", ' ', str(row)).lower() \n",
    "        row = re.sub(\"(\\\\n)\", ' ', str(row)).lower()\n",
    "        \n",
    "        # Remove _ if it occurs more than one time consecutively\n",
    "        row = re.sub(\"(__+)\", ' ', str(row)).lower()   \n",
    "        \n",
    "        # Remove - if it occurs more than one time consecutively\n",
    "        row = re.sub(\"(--+)\", ' ', str(row)).lower()\n",
    "        \n",
    "        # Remove ~ if it occurs more than one time consecutively\n",
    "        row = re.sub(\"(~~+)\", ' ', str(row)).lower()   \n",
    "        \n",
    "        # Remove + if it occurs more than one time consecutively\n",
    "        row = re.sub(\"(\\+\\++)\", ' ', str(row)).lower()   \n",
    "        \n",
    "        # Remove . if it occurs more than one time consecutively\n",
    "        row = re.sub(\"(\\.\\.+)\", ' ', str(row)).lower()   \n",
    "        \n",
    "        # Remove the characters - <>()|&©ø\"',;?~*!\n",
    "        row = re.sub(r\"[<>()|&©ø\\[\\]\\'\\\",;?~*!]\", ' ', str(row)).lower() \n",
    "        \n",
    "        # Remove mailto:\n",
    "        row = re.sub(\"(mailto:)\", ' ', str(row)).lower() \n",
    "        \n",
    "        # Remove \\x9* in text\n",
    "        row = re.sub(r\"(\\\\x9\\d)\", ' ', str(row)).lower() \n",
    "        \n",
    "        # Replace INC nums to INC_NUM\n",
    "        row = re.sub(\"([iI][nN][cC]\\d+)\", 'INC_NUM', str(row)).lower() \n",
    "        \n",
    "        # Replace CM# and CHG# to CM_NUM\n",
    "        row = re.sub(\"([cC][mM]\\d+)|([cC][hH][gG]\\d+)\", 'CM_NUM', str(row)).lower() \n",
    "        \n",
    "        # Remove punctuations at the end of a word \n",
    "        row = re.sub(\"(\\.\\s+)\", ' ', str(row)).lower() \n",
    "        row = re.sub(\"(\\-\\s+)\", ' ', str(row)).lower() \n",
    "        row = re.sub(\"(\\:\\s+)\", ' ', str(row)).lower() \n",
    "                \n",
    "        # Replace any url to only the domain name\n",
    "        try:\n",
    "            url = re.search(r'((https*:\\/*)([^\\/\\s]+))(.[^\\s]+)', str(row))\n",
    "            repl_url = url.group(3)\n",
    "            row = re.sub(r'((https*:\\/*)([^\\/\\s]+))(.[^\\s]+)',repl_url, str(row))\n",
    "        except:\n",
    "            pass \n",
    "        \n",
    "        # Remove multiple spaces\n",
    "        row = re.sub(\"(\\s+)\",' ',str(row)).lower() \n",
    "        \n",
    "        # Remove the single character hanging between any two spaces\n",
    "        row = re.sub(\"(\\s+.\\s+)\", ' ', str(row)).lower() \n",
    "        \n",
    "        yield row"
   ]
  },
  {
   "cell_type": "code",
   "execution_count": 6,
   "metadata": {
    "gradient": {}
   },
   "outputs": [],
   "source": [
    "pretext = text_strip(df['text'])\n",
    "presum = text_strip(df['summary'])"
   ]
  },
  {
   "cell_type": "code",
   "execution_count": 7,
   "metadata": {
    "gradient": {}
   },
   "outputs": [
    {
     "name": "stdout",
     "output_type": "stream",
     "text": [
      "Processing time: 9.7 mins\n"
     ]
    }
   ],
   "source": [
    "import spacy\n",
    "from time import time\n",
    "\n",
    "t = time()\n",
    "\n",
    "nlp = spacy.load('en_core_web_sm', disable=['ner', 'parser']) \n",
    "\n",
    "# Process texts\n",
    "text = [str(doc) for doc in nlp.pipe(pretext, batch_size=3000, n_process=-1)]\n",
    "\n",
    "print('Processing time: {} mins'.format(round((time() - t) / 60, 2)))"
   ]
  },
  {
   "cell_type": "code",
   "execution_count": 8,
   "metadata": {},
   "outputs": [
    {
     "name": "stdout",
     "output_type": "stream",
     "text": [
      "Processing time: 1.41 mins\n"
     ]
    }
   ],
   "source": [
    "t = time()\n",
    "\n",
    "# Process summaries\n",
    "summary = ['_START_ '+ str(doc) + ' _END_' for doc in nlp.pipe(presum, batch_size=3000, n_process=-1)]\n",
    "\n",
    "print('Processing time: {} mins'.format(round((time() - t) / 60, 2)))"
   ]
  },
  {
   "cell_type": "code",
   "execution_count": 9,
   "metadata": {
    "gradient": {}
   },
   "outputs": [
    {
     "data": {
      "text/plain": [
       "'saurav kant an alumnus of upgrad and iiit-b pg program in machine learning and artificial intelligence was sr systems engineer at infosys with almost years of work experience the program and upgrad 360-degree career support helped him transition to data scientist at tech mahindra with 90% salary hike upgrad online power learning has powered lakh+ careers.'"
      ]
     },
     "execution_count": 9,
     "metadata": {},
     "output_type": "execute_result"
    }
   ],
   "source": [
    "text[0]"
   ]
  },
  {
   "cell_type": "code",
   "execution_count": 10,
   "metadata": {
    "gradient": {}
   },
   "outputs": [
    {
     "data": {
      "text/plain": [
       "'_START_ upgrad learner switches to career in ml al with 90% salary hike _END_'"
      ]
     },
     "execution_count": 10,
     "metadata": {},
     "output_type": "execute_result"
    }
   ],
   "source": [
    "summary[0]"
   ]
  },
  {
   "cell_type": "code",
   "execution_count": 12,
   "metadata": {
    "gradient": {}
   },
   "outputs": [],
   "source": [
    "df['cleaned_text'] = pd.Series(text)\n",
    "df['cleaned_summary'] = pd.Series(summary)"
   ]
  },
  {
   "cell_type": "code",
   "execution_count": 15,
   "metadata": {
    "gradient": {}
   },
   "outputs": [],
   "source": [
    "# Count the length of every sentence in text and summary\n",
    "text_count = []\n",
    "summary_count = []\n",
    "\n",
    "for sent in df['cleaned_text']:\n",
    "    text_count.append(len(sent.split()))\n",
    "    \n",
    "for sent in df['cleaned_summary']:\n",
    "    summary_count.append(len(sent.split()))"
   ]
  },
  {
   "cell_type": "code",
   "execution_count": 16,
   "metadata": {
    "gradient": {}
   },
   "outputs": [
    {
     "data": {
      "image/png": "[encoded data removed]",
      "text/plain": [
       "<Figure size 640x480 with 2 Axes>"
      ]
     },
     "metadata": {},
     "output_type": "display_data"
    }
   ],
   "source": [
    "graph_df = pd.DataFrame() \n",
    "\n",
    "graph_df['text'] = text_count\n",
    "graph_df['summary'] = summary_count\n",
    "\n",
    "# Create histogram using matplotlib\n",
    "import matplotlib.pyplot as plt\n",
    "\n",
    "graph_df.hist(bins = 5)\n",
    "plt.show()"
   ]
  },
  {
   "cell_type": "code",
   "execution_count": 20,
   "metadata": {
    "gradient": {}
   },
   "outputs": [
    {
     "name": "stdout",
     "output_type": "stream",
     "text": [
      "0.9578389933440218\n"
     ]
    }
   ],
   "source": [
    "# Check how much % of text have 0-100 words\n",
    "cnt = 0\n",
    "for i in df['cleaned_text']:\n",
    "    if len(i.split()) <= 100:\n",
    "        cnt = cnt + 1\n",
    "print(cnt / len(df['cleaned_text']))"
   ]
  },
  {
   "cell_type": "code",
   "execution_count": 21,
   "metadata": {
    "gradient": {}
   },
   "outputs": [],
   "source": [
    "'''\n",
    "    Create model with following maximum sequence length.\n",
    "    - Maximum text length : 100 words\n",
    "    - Maximum summary length : 15 words\n",
    "'''\n",
    "\n",
    "max_text_len = 100\n",
    "max_summary_len = 15"
   ]
  },
  {
   "cell_type": "code",
   "execution_count": 22,
   "metadata": {
    "gradient": {}
   },
   "outputs": [],
   "source": [
    "# Select the Summaries and Text which fall below max length \n",
    "import numpy as np\n",
    "\n",
    "cleaned_text = np.array(df['cleaned_text'])\n",
    "cleaned_summary= np.array(df['cleaned_summary'])\n",
    "\n",
    "short_text = []\n",
    "short_summary = []\n",
    "\n",
    "for i in range(len(cleaned_text)):\n",
    "    if len(cleaned_summary[i].split()) <= max_summary_len and len(cleaned_text[i].split()) <= max_text_len:\n",
    "        short_text.append(cleaned_text[i])\n",
    "        short_summary.append(cleaned_summary[i])\n",
    "        \n",
    "post_pre = pd.DataFrame({'text': short_text,'summary': short_summary})"
   ]
  },
  {
   "cell_type": "code",
   "execution_count": 26,
   "metadata": {
    "gradient": {}
   },
   "outputs": [
    {
     "name": "stdout",
     "output_type": "stream",
     "text": [
      "118\n"
     ]
    }
   ],
   "source": [
    "count_nan = 0\n",
    "\n",
    "for i in range(len(post_pre)):\n",
    "    if post_pre['text'][i] == 'nan':\n",
    "        count_nan += 1\n",
    "\n",
    "print(count_nan)"
   ]
  },
  {
   "cell_type": "code",
   "execution_count": 30,
   "metadata": {},
   "outputs": [
    {
     "data": {
      "text/html": [
       "<div>\n",
       "<style scoped>\n",
       "    .dataframe tbody tr th:only-of-type {\n",
       "        vertical-align: middle;\n",
       "    }\n",
       "\n",
       "    .dataframe tbody tr th {\n",
       "        vertical-align: top;\n",
       "    }\n",
       "\n",
       "    .dataframe thead th {\n",
       "        text-align: right;\n",
       "    }\n",
       "</style>\n",
       "<table border=\"1\" class=\"dataframe\">\n",
       "  <thead>\n",
       "    <tr style=\"text-align: right;\">\n",
       "      <th></th>\n",
       "      <th>index</th>\n",
       "      <th>text</th>\n",
       "      <th>summary</th>\n",
       "    </tr>\n",
       "  </thead>\n",
       "  <tbody>\n",
       "    <tr>\n",
       "      <th>0</th>\n",
       "      <td>0</td>\n",
       "      <td>saurav kant an alumnus of upgrad and iiit-b pg...</td>\n",
       "      <td>_START_ upgrad learner switches to career in m...</td>\n",
       "    </tr>\n",
       "    <tr>\n",
       "      <th>1</th>\n",
       "      <td>1</td>\n",
       "      <td>kunal shah credit card bill payment platform c...</td>\n",
       "      <td>_START_ delhi techie wins free food from swigg...</td>\n",
       "    </tr>\n",
       "    <tr>\n",
       "      <th>2</th>\n",
       "      <td>2</td>\n",
       "      <td>new zealand defeated india by wickets in the f...</td>\n",
       "      <td>_START_ new zealand end rohit sharma-led india...</td>\n",
       "    </tr>\n",
       "    <tr>\n",
       "      <th>3</th>\n",
       "      <td>3</td>\n",
       "      <td>with aegon life iterm insurance plan customers...</td>\n",
       "      <td>_START_ aegon life iterm insurance plan helps ...</td>\n",
       "    </tr>\n",
       "    <tr>\n",
       "      <th>4</th>\n",
       "      <td>4</td>\n",
       "      <td>speaking about the sexual harassment allegatio...</td>\n",
       "      <td>_START_ have known hirani for yrs what if meto...</td>\n",
       "    </tr>\n",
       "    <tr>\n",
       "      <th>...</th>\n",
       "      <td>...</td>\n",
       "      <td>...</td>\n",
       "      <td>...</td>\n",
       "    </tr>\n",
       "    <tr>\n",
       "      <th>98225</th>\n",
       "      <td>98324</td>\n",
       "      <td>chhavi tyagi 11 apr 2017 tuesday indiatoday.in...</td>\n",
       "      <td>_START_ arrest warrant issued against kejriwal...</td>\n",
       "    </tr>\n",
       "    <tr>\n",
       "      <th>98226</th>\n",
       "      <td>98337</td>\n",
       "      <td>akshita jain 08 mar 2017 wednesday indiatoday....</td>\n",
       "      <td>_START_ india offers to give up veto power tem...</td>\n",
       "    </tr>\n",
       "    <tr>\n",
       "      <th>98227</th>\n",
       "      <td>98339</td>\n",
       "      <td>tarun khanna 07 mar 2017 tuesday indiatoday.in...</td>\n",
       "      <td>_START_ indian fisherman shot dead by sri lank...</td>\n",
       "    </tr>\n",
       "    <tr>\n",
       "      <th>98228</th>\n",
       "      <td>98342</td>\n",
       "      <td>abhishek bansal 03 mar 2017 friday indiatoday....</td>\n",
       "      <td>_START_ bombay high court asks govt to take ca...</td>\n",
       "    </tr>\n",
       "    <tr>\n",
       "      <th>98229</th>\n",
       "      <td>98343</td>\n",
       "      <td>tarun khanna 03 mar 2017 friday indiatoday.int...</td>\n",
       "      <td>_START_ cop mocked by shobhaa de undergoes sur...</td>\n",
       "    </tr>\n",
       "  </tbody>\n",
       "</table>\n",
       "<p>98230 rows × 3 columns</p>\n",
       "</div>"
      ],
      "text/plain": [
       "       index                                               text  \\\n",
       "0          0  saurav kant an alumnus of upgrad and iiit-b pg...   \n",
       "1          1  kunal shah credit card bill payment platform c...   \n",
       "2          2  new zealand defeated india by wickets in the f...   \n",
       "3          3  with aegon life iterm insurance plan customers...   \n",
       "4          4  speaking about the sexual harassment allegatio...   \n",
       "...      ...                                                ...   \n",
       "98225  98324  chhavi tyagi 11 apr 2017 tuesday indiatoday.in...   \n",
       "98226  98337  akshita jain 08 mar 2017 wednesday indiatoday....   \n",
       "98227  98339  tarun khanna 07 mar 2017 tuesday indiatoday.in...   \n",
       "98228  98342  abhishek bansal 03 mar 2017 friday indiatoday....   \n",
       "98229  98343  tarun khanna 03 mar 2017 friday indiatoday.int...   \n",
       "\n",
       "                                                 summary  \n",
       "0      _START_ upgrad learner switches to career in m...  \n",
       "1      _START_ delhi techie wins free food from swigg...  \n",
       "2      _START_ new zealand end rohit sharma-led india...  \n",
       "3      _START_ aegon life iterm insurance plan helps ...  \n",
       "4      _START_ have known hirani for yrs what if meto...  \n",
       "...                                                  ...  \n",
       "98225  _START_ arrest warrant issued against kejriwal...  \n",
       "98226  _START_ india offers to give up veto power tem...  \n",
       "98227  _START_ indian fisherman shot dead by sri lank...  \n",
       "98228  _START_ bombay high court asks govt to take ca...  \n",
       "98229  _START_ cop mocked by shobhaa de undergoes sur...  \n",
       "\n",
       "[98230 rows x 3 columns]"
      ]
     },
     "execution_count": 30,
     "metadata": {},
     "output_type": "execute_result"
    }
   ],
   "source": [
    "nan_index = post_pre.loc[post_pre['text'] == 'nan'].index\n",
    "\n",
    "clear_postpre = post_pre.drop(nan_index).reset_index()\n",
    "clear_postpre"
   ]
  },
  {
   "cell_type": "code",
   "execution_count": 31,
   "metadata": {
    "gradient": {}
   },
   "outputs": [],
   "source": [
    "# Add sostok and eostok at the start and end of the summary\n",
    "clear_postpre['summary'] = clear_postpre['summary'].apply(lambda x: 'sostok ' + x + ' eostok')"
   ]
  },
  {
   "cell_type": "code",
   "execution_count": 32,
   "metadata": {
    "gradient": {}
   },
   "outputs": [
    {
     "data": {
      "text/html": [
       "<div>\n",
       "<style scoped>\n",
       "    .dataframe tbody tr th:only-of-type {\n",
       "        vertical-align: middle;\n",
       "    }\n",
       "\n",
       "    .dataframe tbody tr th {\n",
       "        vertical-align: top;\n",
       "    }\n",
       "\n",
       "    .dataframe thead th {\n",
       "        text-align: right;\n",
       "    }\n",
       "</style>\n",
       "<table border=\"1\" class=\"dataframe\">\n",
       "  <thead>\n",
       "    <tr style=\"text-align: right;\">\n",
       "      <th></th>\n",
       "      <th>index</th>\n",
       "      <th>text</th>\n",
       "      <th>summary</th>\n",
       "    </tr>\n",
       "  </thead>\n",
       "  <tbody>\n",
       "    <tr>\n",
       "      <th>0</th>\n",
       "      <td>0</td>\n",
       "      <td>saurav kant an alumnus of upgrad and iiit-b pg...</td>\n",
       "      <td>sostok _START_ upgrad learner switches to care...</td>\n",
       "    </tr>\n",
       "    <tr>\n",
       "      <th>1</th>\n",
       "      <td>1</td>\n",
       "      <td>kunal shah credit card bill payment platform c...</td>\n",
       "      <td>sostok _START_ delhi techie wins free food fro...</td>\n",
       "    </tr>\n",
       "  </tbody>\n",
       "</table>\n",
       "</div>"
      ],
      "text/plain": [
       "   index                                               text  \\\n",
       "0      0  saurav kant an alumnus of upgrad and iiit-b pg...   \n",
       "1      1  kunal shah credit card bill payment platform c...   \n",
       "\n",
       "                                             summary  \n",
       "0  sostok _START_ upgrad learner switches to care...  \n",
       "1  sostok _START_ delhi techie wins free food fro...  "
      ]
     },
     "execution_count": 32,
     "metadata": {},
     "output_type": "execute_result"
    }
   ],
   "source": [
    "clear_postpre.head(2)"
   ]
  },
  {
   "cell_type": "code",
   "execution_count": 33,
   "metadata": {
    "gradient": {}
   },
   "outputs": [],
   "source": [
    "from sklearn.model_selection import train_test_split\n",
    "\n",
    "x_tr, x_val, y_tr, y_val = train_test_split(np.array(clear_postpre['text']),np.array(clear_postpre['summary']), test_size=0.1, random_state=0, shuffle=True)"
   ]
  },
  {
   "cell_type": "code",
   "execution_count": 34,
   "metadata": {
    "gradient": {}
   },
   "outputs": [],
   "source": [
    "# Tokenize the text to get the vocab count \n",
    "from tensorflow.keras.preprocessing.text import Tokenizer \n",
    "from tensorflow.keras.preprocessing.sequence import pad_sequences\n",
    "\n",
    "# Prepare a tokenizer on training data\n",
    "x_tokenizer = Tokenizer() \n",
    "x_tokenizer.fit_on_texts(list(x_tr))"
   ]
  },
  {
   "cell_type": "code",
   "execution_count": 35,
   "metadata": {
    "gradient": {}
   },
   "outputs": [
    {
     "name": "stdout",
     "output_type": "stream",
     "text": [
      "% of rare words in vocabulary:  65.99717400080742\n"
     ]
    }
   ],
   "source": [
    "thresh = 6\n",
    "\n",
    "cnt = 0\n",
    "tot_cnt = 0\n",
    "\n",
    "for key, value in x_tokenizer.word_counts.items():\n",
    "    tot_cnt = tot_cnt + 1\n",
    "    if value < thresh:\n",
    "        cnt = cnt + 1\n",
    "    \n",
    "print(\"% of rare words in vocabulary: \",(cnt / tot_cnt) * 100)"
   ]
  },
  {
   "cell_type": "code",
   "execution_count": 36,
   "metadata": {
    "gradient": {}
   },
   "outputs": [
    {
     "name": "stdout",
     "output_type": "stream",
     "text": [
      "Size of vocabulary in X = 26953\n"
     ]
    }
   ],
   "source": [
    "# Prepare a tokenizer, again -- by not considering the rare words\n",
    "x_tokenizer = Tokenizer(num_words = tot_cnt - cnt) \n",
    "x_tokenizer.fit_on_texts(list(x_tr))\n",
    "\n",
    "# Convert text sequences to integer sequences \n",
    "x_tr_seq = x_tokenizer.texts_to_sequences(x_tr) \n",
    "x_val_seq = x_tokenizer.texts_to_sequences(x_val)\n",
    "\n",
    "# Pad zero upto maximum length\n",
    "x_tr = pad_sequences(x_tr_seq,  maxlen=max_text_len, padding='post')\n",
    "x_val = pad_sequences(x_val_seq, maxlen=max_text_len, padding='post')\n",
    "\n",
    "# Size of vocabulary (+1 for padding token)\n",
    "x_voc = x_tokenizer.num_words + 1\n",
    "\n",
    "print(\"Size of vocabulary in X = {}\".format(x_voc))"
   ]
  },
  {
   "cell_type": "code",
   "execution_count": 37,
   "metadata": {
    "gradient": {}
   },
   "outputs": [],
   "source": [
    "# Prepare a tokenizer on testing data\n",
    "y_tokenizer = Tokenizer()   \n",
    "y_tokenizer.fit_on_texts(list(y_tr))"
   ]
  },
  {
   "cell_type": "code",
   "execution_count": 38,
   "metadata": {
    "gradient": {}
   },
   "outputs": [
    {
     "name": "stdout",
     "output_type": "stream",
     "text": [
      "% of rare words in vocabulary: 66.35280441732054\n"
     ]
    }
   ],
   "source": [
    "thresh = 6\n",
    "\n",
    "cnt = 0\n",
    "tot_cnt = 0\n",
    "\n",
    "for key, value in y_tokenizer.word_counts.items():\n",
    "    tot_cnt = tot_cnt + 1\n",
    "    if value < thresh:\n",
    "        cnt = cnt + 1\n",
    "    \n",
    "print(\"% of rare words in vocabulary:\",(cnt / tot_cnt) * 100)"
   ]
  },
  {
   "cell_type": "code",
   "execution_count": 39,
   "metadata": {
    "gradient": {}
   },
   "outputs": [
    {
     "name": "stdout",
     "output_type": "stream",
     "text": [
      "Size of vocabulary in Y = 11579\n"
     ]
    }
   ],
   "source": [
    "# Prepare a tokenizer, again -- by not considering the rare words\n",
    "y_tokenizer = Tokenizer(num_words=tot_cnt-cnt) \n",
    "y_tokenizer.fit_on_texts(list(y_tr))\n",
    "\n",
    "# Convert text sequences to integer sequences \n",
    "y_tr_seq = y_tokenizer.texts_to_sequences(y_tr) \n",
    "y_val_seq = y_tokenizer.texts_to_sequences(y_val) \n",
    "\n",
    "# Pad zero upto maximum length\n",
    "y_tr = pad_sequences(y_tr_seq, maxlen=max_summary_len, padding='post')\n",
    "y_val = pad_sequences(y_val_seq, maxlen=max_summary_len, padding='post')\n",
    "\n",
    "# Size of vocabulary (+1 for padding token)\n",
    "y_voc = y_tokenizer.num_words + 1\n",
    "\n",
    "print(\"Size of vocabulary in Y = {}\".format(y_voc))"
   ]
  },
  {
   "cell_type": "code",
   "execution_count": 40,
   "metadata": {
    "gradient": {}
   },
   "outputs": [],
   "source": [
    "# Remove empty Summaries, .i.e, which only have 'START' and 'END' tokens\n",
    "ind = []\n",
    "\n",
    "for i in range(len(y_tr)):\n",
    "    cnt = 0\n",
    "    for j in y_tr[i]:\n",
    "        if j != 0:\n",
    "            cnt = cnt + 1\n",
    "    if cnt == 2:\n",
    "        ind.append(i)\n",
    "\n",
    "y_tr = np.delete(y_tr, ind, axis=0)\n",
    "x_tr = np.delete(x_tr, ind, axis=0)"
   ]
  },
  {
   "cell_type": "code",
   "execution_count": 41,
   "metadata": {
    "gradient": {}
   },
   "outputs": [],
   "source": [
    "# Remove empty Summaries, .i.e, which only have 'START' and 'END' tokens\n",
    "ind = []\n",
    "for i in range(len(y_val)):\n",
    "    cnt = 0\n",
    "    for j in y_val[i]:\n",
    "        if j != 0:\n",
    "            cnt = cnt + 1\n",
    "    if cnt == 2:\n",
    "        ind.append(i)\n",
    "\n",
    "y_val = np.delete(y_val, ind, axis=0)\n",
    "x_val = np.delete(x_val, ind, axis=0)"
   ]
  },
  {
   "cell_type": "code",
   "execution_count": 61,
   "metadata": {
    "gradient": {}
   },
   "outputs": [
    {
     "name": "stdout",
     "output_type": "stream",
     "text": [
      "Model: \"model_3\"\n",
      "__________________________________________________________________________________________________\n",
      " Layer (type)                   Output Shape         Param #     Connected to                     \n",
      "==================================================================================================\n",
      " input_7 (InputLayer)           [(None, 100)]        0           []                               \n",
      "                                                                                                  \n",
      " embedding_6 (Embedding)        (None, 100, 200)     5390600     ['input_7[0][0]']                \n",
      "                                                                                                  \n",
      " input_8 (InputLayer)           [(None, None)]       0           []                               \n",
      "                                                                                                  \n",
      " lstm_11 (LSTM)                 [(None, 100, 300),   601200      ['embedding_6[0][0]']            \n",
      "                                 (None, 300),                                                     \n",
      "                                 (None, 300)]                                                     \n",
      "                                                                                                  \n",
      " embedding_7 (Embedding)        (None, None, 200)    2315800     ['input_8[0][0]']                \n",
      "                                                                                                  \n",
      " lstm_12 (LSTM)                 [(None, 100, 300),   721200      ['lstm_11[0][0]']                \n",
      "                                 (None, 300),                                                     \n",
      "                                 (None, 300)]                                                     \n",
      "                                                                                                  \n",
      " lstm_13 (LSTM)                 [(None, None, 300),  601200      ['embedding_7[0][0]',            \n",
      "                                 (None, 300),                     'lstm_12[0][1]',                \n",
      "                                 (None, 300)]                     'lstm_12[0][2]']                \n",
      "                                                                                                  \n",
      " time_distributed_3 (TimeDistri  (None, None, 11579)  3485279    ['lstm_13[0][0]']                \n",
      " buted)                                                                                           \n",
      "                                                                                                  \n",
      "==================================================================================================\n",
      "Total params: 13,115,279\n",
      "Trainable params: 13,115,279\n",
      "Non-trainable params: 0\n",
      "__________________________________________________________________________________________________\n"
     ]
    }
   ],
   "source": [
    "from tensorflow.keras.preprocessing.text import Tokenizer \n",
    "from tensorflow.keras.preprocessing.sequence import pad_sequences\n",
    "from tensorflow.keras.layers import Input, LSTM, Embedding, Dense, Concatenate, TimeDistributed\n",
    "from tensorflow.keras.models import Model\n",
    "from tensorflow.keras.callbacks import EarlyStopping\n",
    "\n",
    "latent_dim = 300\n",
    "embedding_dim = 200\n",
    "\n",
    "# Encoder\n",
    "encoder_inputs = Input(shape=(max_text_len, ))\n",
    "\n",
    "# Embedding layer\n",
    "enc_emb =  Embedding(x_voc, embedding_dim, trainable=True)(encoder_inputs)\n",
    "\n",
    "# Encoder LSTM 1\n",
    "encoder_lstm1 = LSTM(latent_dim, return_sequences=True, return_state=True, dropout=0.4, recurrent_dropout=0.4)\n",
    "encoder_output1, state_h1, state_c1 = encoder_lstm1(enc_emb)\n",
    "\n",
    "# Encoder LSTM 2\n",
    "# encoder_lstm2 = LSTM(latent_dim, return_sequences=True, return_state=True, dropout=0.4, recurrent_dropout=0.4)\n",
    "# encoder_output2, state_h2, state_c2 = encoder_lstm2(encoder_output1)\n",
    "\n",
    "# Encoder LSTM 3\n",
    "encoder_lstm3 = LSTM(latent_dim, return_state=True, return_sequences=True, dropout=0.4, recurrent_dropout=0.4)\n",
    "encoder_outputs, state_h, state_c= encoder_lstm3(encoder_output1)\n",
    "\n",
    "# Set up the decoder, using `encoder_states` as the initial state\n",
    "decoder_inputs = Input(shape=(None, ))\n",
    "\n",
    "# Embedding layer\n",
    "dec_emb_layer = Embedding(y_voc, embedding_dim,trainable=True)\n",
    "dec_emb = dec_emb_layer(decoder_inputs)\n",
    "\n",
    "# Decoder LSTM\n",
    "decoder_lstm = LSTM(latent_dim, return_sequences=True, return_state=True, dropout=0.4, recurrent_dropout=0.2)\n",
    "decoder_outputs, decoder_fwd_state, decoder_back_state = decoder_lstm(dec_emb, initial_state=[state_h, state_c])\n",
    "\n",
    "# Dense layer\n",
    "decoder_dense =  TimeDistributed(Dense(y_voc, activation='softmax'))\n",
    "decoder_outputs = decoder_dense(decoder_outputs)\n",
    "\n",
    "# Define the model \n",
    "model = Model([encoder_inputs, decoder_inputs], decoder_outputs)\n",
    "\n",
    "model.summary()\n"
   ]
  },
  {
   "cell_type": "code",
   "execution_count": 62,
   "metadata": {
    "gradient": {}
   },
   "outputs": [],
   "source": [
    "model.compile(optimizer='rmsprop', loss='sparse_categorical_crossentropy')"
   ]
  },
  {
   "cell_type": "code",
   "execution_count": 63,
   "metadata": {
    "gradient": {}
   },
   "outputs": [],
   "source": [
    "es = EarlyStopping(monitor='val_loss', mode='min', verbose=1, patience=2)"
   ]
  },
  {
   "cell_type": "code",
   "execution_count": 65,
   "metadata": {
    "gradient": {}
   },
   "outputs": [
    {
     "name": "stdout",
     "output_type": "stream",
     "text": [
      "Epoch 1/50\n",
      "346/346 [==============================] - 1162s 3s/step - loss: 5.1692 - val_loss: 4.8635\n",
      "Epoch 2/50\n",
      "346/346 [==============================] - 1269s 4s/step - loss: 4.8040 - val_loss: 4.6146\n",
      "Epoch 3/50\n",
      "346/346 [==============================] - 1188s 3s/step - loss: 4.5136 - val_loss: 4.3288\n",
      "Epoch 4/50\n",
      "346/346 [==============================] - 1183s 3s/step - loss: 4.2428 - val_loss: 4.1373\n",
      "Epoch 5/50\n",
      "346/346 [==============================] - 1184s 3s/step - loss: 4.0411 - val_loss: 3.9943\n",
      "Epoch 6/50\n",
      "346/346 [==============================] - 1180s 3s/step - loss: 3.8775 - val_loss: 3.8588\n",
      "Epoch 7/50\n",
      "346/346 [==============================] - 1186s 3s/step - loss: 3.7394 - val_loss: 3.7572\n",
      "Epoch 8/50\n",
      "346/346 [==============================] - 1185s 3s/step - loss: 3.6168 - val_loss: 3.6763\n",
      "Epoch 9/50\n",
      "346/346 [==============================] - 1139s 3s/step - loss: 3.5078 - val_loss: 3.6058\n",
      "Epoch 10/50\n",
      "346/346 [==============================] - 1143s 3s/step - loss: 3.4125 - val_loss: 3.5405\n",
      "Epoch 11/50\n",
      "346/346 [==============================] - 1148s 3s/step - loss: 3.3292 - val_loss: 3.4811\n",
      "Epoch 12/50\n",
      "346/346 [==============================] - 1160s 3s/step - loss: 3.2499 - val_loss: 3.4345\n",
      "Epoch 13/50\n",
      "346/346 [==============================] - 1156s 3s/step - loss: 3.1806 - val_loss: 3.3959\n",
      "Epoch 14/50\n",
      "346/346 [==============================] - 1161s 3s/step - loss: 3.1166 - val_loss: 3.3625\n",
      "Epoch 15/50\n",
      "346/346 [==============================] - 1171s 3s/step - loss: 3.0567 - val_loss: 3.3382\n",
      "Epoch 16/50\n",
      "346/346 [==============================] - 1169s 3s/step - loss: 3.0001 - val_loss: 3.3068\n",
      "Epoch 17/50\n",
      "346/346 [==============================] - 1173s 3s/step - loss: 2.9474 - val_loss: 3.2891\n",
      "Epoch 18/50\n",
      "346/346 [==============================] - 1172s 3s/step - loss: 2.8976 - val_loss: 3.2581\n",
      "Epoch 19/50\n",
      "346/346 [==============================] - 1176s 3s/step - loss: 2.8494 - val_loss: 3.2391\n",
      "Epoch 20/50\n",
      "346/346 [==============================] - 1246s 4s/step - loss: 2.8055 - val_loss: 3.2225\n",
      "Epoch 21/50\n",
      "346/346 [==============================] - 1200s 3s/step - loss: 2.7669 - val_loss: 3.2105\n",
      "Epoch 22/50\n",
      "346/346 [==============================] - 1162s 3s/step - loss: 2.7298 - val_loss: 3.1964\n",
      "Epoch 23/50\n",
      "346/346 [==============================] - 1168s 3s/step - loss: 2.6929 - val_loss: 3.1849\n",
      "Epoch 24/50\n",
      "346/346 [==============================] - 1172s 3s/step - loss: 2.6575 - val_loss: 3.1742\n",
      "Epoch 25/50\n",
      "346/346 [==============================] - 1164s 3s/step - loss: 2.6218 - val_loss: 3.1599\n",
      "Epoch 26/50\n",
      "346/346 [==============================] - 1179s 3s/step - loss: 2.5888 - val_loss: 3.1508\n",
      "Epoch 27/50\n",
      "346/346 [==============================] - 1191s 3s/step - loss: 2.5552 - val_loss: 3.1584\n",
      "Epoch 28/50\n",
      "346/346 [==============================] - 1215s 4s/step - loss: 2.5253 - val_loss: 3.1379\n",
      "Epoch 29/50\n",
      "346/346 [==============================] - 1122s 3s/step - loss: 2.4940 - val_loss: 3.1332\n",
      "Epoch 30/50\n",
      "346/346 [==============================] - 1121s 3s/step - loss: 2.4672 - val_loss: 3.1363\n",
      "Epoch 31/50\n",
      "346/346 [==============================] - 1131s 3s/step - loss: 2.4417 - val_loss: 3.1279\n",
      "Epoch 32/50\n",
      "346/346 [==============================] - 1130s 3s/step - loss: 2.4178 - val_loss: 3.1155\n",
      "Epoch 33/50\n",
      "346/346 [==============================] - 1146s 3s/step - loss: 2.3923 - val_loss: 3.1282\n",
      "Epoch 34/50\n",
      "346/346 [==============================] - 1140s 3s/step - loss: 2.3680 - val_loss: 3.1155\n",
      "Epoch 34: early stopping\n"
     ]
    }
   ],
   "source": [
    "# Note: this will take a while. Run as many epochs as needed.\n",
    "history = model.fit([x_tr, y_tr[:,:-1]], y_tr.reshape(y_tr.shape[0], y_tr.shape[1], 1)[:,1:], epochs=50, callbacks=[es], batch_size=256, validation_data=([x_val, y_val[:, :-1]], y_val.reshape(y_val.shape[0], y_val.shape[1], 1)[:,1:]))"
   ]
  },
  {
   "cell_type": "code",
   "execution_count": 66,
   "metadata": {
    "gradient": {}
   },
   "outputs": [
    {
     "data": {
      "image/png": "[encoded data removed]",
      "text/plain": [
       "<Figure size 640x480 with 1 Axes>"
      ]
     },
     "metadata": {},
     "output_type": "display_data"
    }
   ],
   "source": [
    "from matplotlib import pyplot\n",
    "\n",
    "pyplot.plot(history.history['loss'], label='train')\n",
    "pyplot.plot(history.history['val_loss'], label='test')\n",
    "pyplot.legend()\n",
    "pyplot.show()"
   ]
  },
  {
   "cell_type": "code",
   "execution_count": 67,
   "metadata": {
    "gradient": {}
   },
   "outputs": [],
   "source": [
    "reverse_target_word_index = y_tokenizer.index_word\n",
    "reverse_source_word_index = x_tokenizer.index_word\n",
    "target_word_index = y_tokenizer.word_index"
   ]
  },
  {
   "cell_type": "code",
   "execution_count": 68,
   "metadata": {
    "gradient": {}
   },
   "outputs": [],
   "source": [
    "# Inference Models\n",
    "\n",
    "# Encode the input sequence to get the feature vector\n",
    "encoder_model = Model(inputs=encoder_inputs, outputs=[encoder_outputs, state_h, state_c])\n",
    "\n",
    "# Decoder setup\n",
    "# Below tensors will hold the states of the previous time step\n",
    "decoder_state_input_h = Input(shape=(latent_dim,))\n",
    "decoder_state_input_c = Input(shape=(latent_dim,))\n",
    "decoder_hidden_state_input = Input(shape=(max_text_len, latent_dim))\n",
    "\n",
    "# Get the embeddings of the decoder sequence\n",
    "dec_emb2 = dec_emb_layer(decoder_inputs) \n",
    "\n",
    "# To predict the next word in the sequence, set the initial states to the states from the previous time step\n",
    "decoder_outputs2, state_h2, state_c2 = decoder_lstm(dec_emb2, initial_state=[decoder_state_input_h, decoder_state_input_c])\n",
    "\n",
    "# A dense softmax layer to generate prob dist. over the target vocabulary\n",
    "decoder_outputs2 = decoder_dense(decoder_outputs2) \n",
    "\n",
    "# Final decoder model\n",
    "decoder_model = Model(\n",
    "    [decoder_inputs] + [decoder_hidden_state_input, decoder_state_input_h, decoder_state_input_c],\n",
    "    [decoder_outputs2] + [state_h2, state_c2])"
   ]
  },
  {
   "cell_type": "code",
   "execution_count": 72,
   "metadata": {
    "gradient": {}
   },
   "outputs": [],
   "source": [
    "def decode_sequence(input_seq):\n",
    "    \n",
    "    # Encode the input as state vectors.\n",
    "    e_out, e_h, e_c = encoder_model.predict(input_seq, verbose = None)\n",
    "    \n",
    "    # Generate empty target sequence of length 1\n",
    "    target_seq = np.zeros((1,1))\n",
    "    \n",
    "    # Populate the first word of target sequence with the start word.\n",
    "    target_seq[0, 0] = target_word_index['sostok']\n",
    "\n",
    "    stop_condition = False\n",
    "    decoded_sentence = ''\n",
    "    \n",
    "    while not stop_condition:\n",
    "        output_tokens, h, c = decoder_model.predict([target_seq] + [e_out, e_h, e_c], verbose = None)\n",
    "\n",
    "        # Sample a token\n",
    "        sampled_token_index = np.argmax(output_tokens[0, -1, :])\n",
    "        sampled_token = reverse_target_word_index[sampled_token_index]\n",
    "        \n",
    "        if(sampled_token != 'eostok'):\n",
    "            decoded_sentence += ' ' + sampled_token\n",
    "\n",
    "        # Exit condition: either hit max length or find stop word.\n",
    "        if (sampled_token == 'eostok' or len(decoded_sentence.split()) >= (max_summary_len - 1)):\n",
    "            stop_condition = True\n",
    "\n",
    "        # Update the target sequence (of length 1)\n",
    "        target_seq = np.zeros((1,1))\n",
    "        target_seq[0, 0] = sampled_token_index\n",
    "\n",
    "        # Update internal states\n",
    "        e_h, e_c = h, c\n",
    "\n",
    "    return decoded_sentence"
   ]
  },
  {
   "cell_type": "code",
   "execution_count": 73,
   "metadata": {
    "gradient": {}
   },
   "outputs": [],
   "source": [
    "# To convert sequence to summary\n",
    "def seq2summary(input_seq):\n",
    "    newString = ''\n",
    "    for i in input_seq:\n",
    "        if ((i != 0 and i != target_word_index['sostok']) and i!= target_word_index['eostok']):\n",
    "            newString = newString + reverse_target_word_index[i] + ' '\n",
    "            \n",
    "    return newString\n",
    "\n",
    "# To convert sequence to text\n",
    "def seq2text(input_seq):\n",
    "    newString = ''\n",
    "    for i in input_seq:\n",
    "        if i != 0:\n",
    "            newString = newString + reverse_source_word_index[i] + ' '\n",
    "            \n",
    "    return newString"
   ]
  },
  {
   "cell_type": "code",
   "execution_count": 81,
   "metadata": {
    "gradient": {},
    "scrolled": false
   },
   "outputs": [
    {
     "name": "stdout",
     "output_type": "stream",
     "text": [
      "Review: nepal has rejected india offer to jointly the height of mount everest saying they will carry out the exercise on their own nepal will however seek help from india and china for getting crucial data for the exercise the director general of nepal survey department said nepal reportedly declined since the peak falls on its border with china \n",
      "Original summary: start nepal rejects india offer to jointly mt everest end \n",
      "Predicted summary:  start nepal rejects india offer to return to nepal war end\n",
      "\n",
      "\n",
      "Review: uk top executives pay declined by 19 as companies trimmed the amount bosses could earn from bonuses salaries fell to ãâ£3 5 million ã¢ââ¹28 9 crore in 2016 from ãâ£4 3 million ã¢ââ¹35 5 crore year ago deloitte survey revealed another report earlier found an average employee would have to work for 160 years to earn 100 ceo annual pay \n",
      "Original summary: start pay of uk top executives declines by 19 end \n",
      "Predicted summary:  start uk top uk top executives pay for 2017 18 billion end\n",
      "\n",
      "\n",
      "Review: tata motors has produced only one unit of its small car nano last month as against 275 units in june 2017 further the automaker sold only units of the car last month while it exported none former tata sons chairman cyrus mistry had in 2016 claimed that tata motors did not stop producing the car due to emotional reasons \n",
      "Original summary: start only unit of tata nano produced in june end \n",
      "Predicted summary:  start tata motors jaguar has no longer in india end\n",
      "\n",
      "\n",
      "Review: a panel set up by delhi l g anil baijal has said delhi government flagship cctv project will not be controlled by the aap government but will be under the l g via delhi police delhi cm arvind kejriwal called the panel illegal and directed pwd secretary manoj parida to propose the installation of one lakh cameras in the next cabinet meeting \n",
      "Original summary: start delhi police not govt to control cctv project l g panel end \n",
      "Predicted summary:  start delhi l g house will be used to delhi cm kejriwal end\n",
      "\n",
      "\n",
      "Review: hong kong will pay 2 8 million citizens cash of up to hk 4 000 over ã¢ââ¹33 000 amid reports of ã¢ââ¹1 lakh crore surplus in its annual budget the beneficiaries would include those who did not directly benefit from the budget including the ones who do not own property or receive any government allowances financial secretary paul chan mo po said \n",
      "Original summary: start hong kong to pay one third of its citizens ã¢ââ¹33 000 each end \n",
      "Predicted summary:  start hong kong to pay ã¢ââ¹10 lakh for each other end\n",
      "\n",
      "\n",
      "Review: the eu court on wednesday dismissed 16 year old appeal by kit kat maker nestlãâ which argued it owns the chocolate 4 bar shape nestlãâ did not show its shape was sufficient mark of distinctive character in the countries it seeks trademark the court said the eu granted nestlãâ trademark in 2006 which was contested by cadbury parent mondelez \n",
      "Original summary: start kit kat loses 16 year old case to trademark 4 shape end \n",
      "Predicted summary:  start wikileaks loses 13 year old challenge to replace trademark end\n",
      "\n",
      "\n",
      "Review: congress president rahul gandhi was seated in the front row of the central hall in the parliament during the president address on tuesday this comes after congress had criticised the government for giving the party president seat in the sixth row for the republic day parade former congress president sonia gandhi was seated in the first row \n",
      "Original summary: start rahul gets front seat during prez address post r day row end \n",
      "Predicted summary:  start rahul meets rahul gandhi in uk over special status row end\n",
      "\n",
      "\n",
      "Review: rohit shetty has said when audience isn happy he feels restless adding want them to enjoy my films m more happy when audience is happy when they re laughing and cheering if person goes to watch film he puts 10 per cent of his earning in it so should see to it that they re entertained he said \n",
      "Original summary: start when audience is not happy feel rohit shetty end \n",
      "Predicted summary:  start i am happy that rohit shetty on casting couch end\n",
      "\n",
      "\n",
      "Review: the free movement of workers between the uk and eu will end after brexit britain immigration minister brandon lewis has said free movement of workers is one of the freedoms enjoyed by eu citizens they also have the right to work in another eu member state and be treated at par with nationals of that member state \n",
      "Original summary: start free movement of labour between eu and uk to end post brexit end \n",
      "Predicted summary:  start eu parliament to hold brexit brexit end\n",
      "\n",
      "\n",
      "Review: a 96 year old retired in united states texas is looking to sell the toilet seat art museum which was founded over 50 years ago smith has turned over 300 toilet seats into works of art and displayed them at the museum smith says want somebody to keep it as museum \n",
      "Original summary: start 96 year old retired selling toilet seat art museum end \n",
      "Predicted summary:  start man with family to be auctioned for ã¢ââ¹1 000 crore end\n",
      "\n",
      "\n",
      "Review: ahead of the hearing on its petition against karnataka governor vajubhai vala invite to bjp to form the government congress leader ghulam nabi azad has said we have full faith in the supreme court the apex court will not repeat the same mistake the governor did he added the governor gave bjp 15 days to prove majority in the assembly \n",
      "Original summary: start have faith in sc it won repeat taka guv mistake cong end \n",
      "Predicted summary:  start won make govt for rafale deal sc end\n",
      "\n",
      "\n",
      "Review: students at the government high school in tamil nadu created barrier and refused to let their 28 year old english teacher leave after they found out about his transfer they were hugging and crying and clutching my foot refusing to let me go said more than teacher m friend brother to them he added \n",
      "Original summary: start tn students form barrier refuse to accept teacher transfer end \n",
      "Predicted summary:  start tn school students to protest against students end\n",
      "\n",
      "\n",
      "Review: american rapper 50 cent has admitted he never owned and does not now own bitcoin account or any bitcoin he added the limited bitcoin transactions that occurred earlier were converted to us dollars based upon the then existing exchange rate it was earlier falsely reported that 50 cent earned 700 bitcoins in 2014 now worth over 7 million \n",
      "Original summary: start 50 cent admits he never owned any bitcoins end \n",
      "Predicted summary:  start never knew bitcoin was never used for bitcoin now end\n",
      "\n",
      "\n",
      "Review: the first trailer of the third season of american television series quantico starring actress priyanka chopra has been released priyanka will reprise the character of alex parrish on the show the new season which will premiere on april 26 will have 13 episodes unlike the first two seasons which had 22 episodes \n",
      "Original summary: start trailer of priyanka chopra starrer quantico season out end \n",
      "Predicted summary:  start trailer of priyanka chopra first female released end\n",
      "\n",
      "\n",
      "Review: the kerala high court on friday allowed 19 year old muslim girl and an 18 year old muslim boy to live together stating it cannot shut eyes to the reality of live in relationships it dismissed petition by the girl father that she was being detained by the boy recently the supreme court had held that adult couples can live together without marriage \n",
      "Original summary: start kerala hc allows muslim couple to live in together end \n",
      "Predicted summary:  start kerala hc allows muslim girl to live together in live end\n",
      "\n",
      "\n",
      "Review: beer production has returned to syria with the opening of 16 million brewery which plans to produce 15 million litres of beer each year the beer is the first mass produced domestic beer since the civil war halted production of the country only two brands until now syrians have been importing beer from lebanon \n",
      "Original summary: start beer factory opens in syria for 1st time since war broke out end \n",
      "Predicted summary:  start beer beer beer to be auctioned for the first time end\n",
      "\n",
      "\n",
      "Review: tv actor piyush who played the character of lord rama in ke dev mahadev was arrested on wednesday on charges of rape filed by woman at mumbai versova police station the actor has been sent to police custody till november 27 piyush is also known for his roles in meet mila de geet and \n",
      "Original summary: start ke dev actor piyush arrested on rape charges end \n"
     ]
    },
    {
     "name": "stdout",
     "output_type": "stream",
     "text": [
      "Predicted summary:  start actor arrested for raping actor in mumbai end\n",
      "\n",
      "\n",
      "Review: the supreme court has directed real estate firm unitech to deposit ã¢ââ¹750 crore by december end for giving refunds to the homebuyers sc said it will consider granting bail to unitech md sanjay chandra only after the money is deposited the court permitted video conferencing facility to chandra to be able to sell his properties and assets to generate the money \n",
      "Original summary: start sc asks unitech to deposit crore by december end end \n",
      "Predicted summary:  start sc orders unitech to refund unitech for unitech end\n",
      "\n",
      "\n",
      "Review: relations between india and the us have grown from and mutual suspicion to friendship and partnership us ambassador to the un nikki haley said on thursday haley added that indian americans are the most educated and highly philanthropic minority in the us despite being nuclear power india is respected globally as it is responsible democracy she further said \n",
      "Original summary: start india us ties grew from to friendship haley end \n",
      "Predicted summary:  start india us has very important us envoy on un ties end\n",
      "\n",
      "\n",
      "Review: an international team of astronomers claims to have discovered new dwarf galaxy located 130 000 light years away from the milky way named ant the dwarf galaxy is third the size of the milky way the team said it is also 10 000 times compared to other such galaxies in the milky way the team added \n",
      "Original summary: start astronomers discover dwarf galaxy near milky way end \n",
      "Predicted summary:  start astronomers discover new galaxy of galaxy end\n",
      "\n",
      "\n",
      "Review: the uk has stripped more than 150 suspected jihadists and criminals of their citizenship and banned them from returning to the country as part of counter terrorism efforts the crackdown comes after intelligence chiefs warned that over 300 isis affiliated militants could soon return to the uk amid the impending collapse of their caliphate in iraq and syria \n",
      "Original summary: start uk strips 150 of citizenship in crackdown end \n",
      "Predicted summary:  start uk lists uk largest terror in terror case end\n",
      "\n",
      "\n",
      "Review: pm narendra modi vice president venkaiah naidu and bjp chief amit shah on tuesday paid tribute to late pm atal bihari vajpayee at the rashtriya smriti sthal on his 94th birth anniversary we our commitment towards creating the india he dreamt of pm modi tweeted naidu remembered him as most beloved leader above all great human being \n",
      "Original summary: start pm modi pays tribute to late pm vajpayee on birth anniv end \n",
      "Predicted summary:  start pm modi pays tribute to late pm vajpayee at karunanidhi end\n",
      "\n",
      "\n",
      "Review: chinese smartphone maker xiaomi has launched feature in india to let users track their phone repair status online users will be able to get the repair status just by entering details like order number or contact number the service feature which has already been activated is available on the company official website mi com under service order status section \n",
      "Original summary: start xiaomi launches feature to track device repair status online end \n",
      "Predicted summary:  start xiaomi launches feature to use phone in india end\n",
      "\n",
      "\n",
      "Review: harvard university researchers have developed soft non toxic wearable sensor to detect disabilities in premature babies the sensor to the hand and measures the force of grasp and the motion of the hand and fingers we have developed new type of conductive liquid that is no more dangerous than small drop of salt water scientists said \n",
      "Original summary: start harvard makes sensor to spot disability in premature babies end \n",
      "Predicted summary:  start scientists make smart that can detect cancer end\n",
      "\n",
      "\n",
      "Review: aparshakti khurana has said that one has to be shameless and have little open attitude as an actor adding not always right people will approach you need to approach right people and take the first step when get to know somebody is making film try to catch hold of their numbers and approach them he added \n",
      "Original summary: start you need to be as actor end \n",
      "Predicted summary:  start can be with the word of the year end\n",
      "\n",
      "\n",
      "Review: google parent company alphabet chairman eric schmidt has said that the technology major can guarantee but can get pretty close to ensuring that an ad doesn show up next to offensive content on its platforms this comes after brands like bbc domino and hyundai boycotted google and withdrew their ads in the uk for appearing next to videos promoting terrorism \n",
      "Original summary: start can guarantee ad won show near offensive content google end \n",
      "Predicted summary:  start can remove google content on internet content end\n",
      "\n",
      "\n",
      "Review: during gathering in ghatkopar bjp mla ram kadam talked about helping youngsters facing issues after they ve proposed to girl and said if parents say they like that ll help you in eloping with her it ll be wrong but ll help he said while sharing his mobile number when asked about his statement kadam said his comments were distorted n \n",
      "Original summary: start will help you with girl you like bjp mla to youngsters end \n",
      "Predicted summary:  start you will be like mla if you ll be mla end\n",
      "\n",
      "\n",
      "Review: sunil grover has said that salman khan spoke to him about collaborating with kapil sharma once again adding we had very casual chat about it but nothing much salman sir is producing kapil show my own dates would have clashed as am doing film with salman sir sunil further revealed sunil will be seen in salman bharat \n",
      "Original summary: start salman khan spoke to me about it sunil on working with kapil end \n",
      "Predicted summary:  start kapil sharma is an sunil grover on his birthday end\n",
      "\n",
      "\n",
      "Review: prime minister narendra modi on wednesday condoled the loss of lives in the new farakka express train derailment in uttar pradesh pm modi said anguished by the loss of lives due to rail accident in raebareli condolences to the bereaved families and pray that the injured recover quickly \n",
      "Original summary: start pm modi condoles loss of lives in up train derailment end \n",
      "Predicted summary:  start pm modi condoles loss of lives in train in train end\n",
      "\n",
      "\n",
      "Review: former jammu kashmir dgp sp vaid who was transferred after militants kidnapped some relatives of policemen said that he was going with lot of good feelings he also said am grateful to god that got chance to serve my people and contribute my bit adding his only concern is the unnecessary loss of human lives \n",
      "Original summary: start going with lot of good ex j dgp after transfer end \n",
      "Predicted summary:  start j cm says he was hurt ex j dgp end\n",
      "\n",
      "\n",
      "Review: venezuela is holding nationwide military drills calling on civilians to join the armed forces to defend the country against possible attack the drills are in response to us president donald trump recent threat of military action against venezuela and fresh financial sanctions which the oil rich country has denounced as the worst aggression towards venezuela in the last 200 years nn \n",
      "Original summary: start venezuela holds nationwide military drills over trump threat end \n",
      "Predicted summary:  start venezuela to deploy troops in syria amid trade war with us end\n",
      "\n",
      "\n",
      "Review: china on tuesday slammed us president donald trump national security strategy as cold war mentality that will only harm the us any country or any report which distorts the facts or maliciously will only do so in vain the chinese foreign ministry said the document designated china as power seeking to the us in asia \n",
      "Original summary: start china slams new us security strategy as cold war mentality end \n",
      "Predicted summary:  start china slams us for war with trump decision end\n",
      "\n",
      "\n",
      "Review: kazakhstan is changing its name to as part of transition from to latin based script national commission will be set up to oversee the transition which will be completed by 2025 justifying the move kazakhstan foreign ministry said that latin is used by approximately 70 of all countries making it an essential part of global communication \n",
      "Original summary: start kazakhstan to change its name by 2025 end \n",
      "Predicted summary:  start to replace as new name and end\n",
      "\n",
      "\n",
      "Review: the congress on friday instructed all of its spokespersons not to comment on prime minister narendra modi or his public addresses this comes after suspended congress leader mani shankar aiyar had triggered outrage over his reference to pm modi as neech congress vice president rahul gandhi had said that he did not appreciate aiyar language and expected him to apologise \n",
      "Original summary: start congress not to comment on pm modi end \n"
     ]
    },
    {
     "name": "stdout",
     "output_type": "stream",
     "text": [
      "Predicted summary:  start pm modi not to be congress leader on rahul gandhi end\n",
      "\n",
      "\n",
      "Review: a ludhiana court has issued fresh non bailable warrant against actress rakhi sawant for her alleged objectionable remarks against sage valmiki the complaint was filed against rakhi last year for allegedly hurting religious sentiments of the valmiki community after warrant was issued against her in april 2017 rakhi claimed she never spoke against sage valmiki and issued an apology n \n",
      "Original summary: start fresh non bailable warrant against rakhi for remarks end \n",
      "Predicted summary:  start non bailable warrant issued against rakhi sawant end\n",
      "\n",
      "\n",
      "Review: asking trinamool congress leaders to stop throwing mud at his office west bengal governor kn tripathi has said they should instead go to the washroom and wash the dirt off their faces this comes after the tmc accused tripathi of bypassing the state government when he sent letter to senior officer asking him to call an administrative meeting \n",
      "Original summary: start go wash dirt off your faces wb governor to tmc leaders end \n",
      "Predicted summary:  start tmc leader asks cong to stop wb panchayat panchayat polls end\n",
      "\n",
      "\n",
      "Review: nepal wild tiger population has reached 235 nearly doubling the baseline of around 121 tigers in 2009 the last survey in 2013 had estimated the tiger population at 198 if these trends continue nepal could become the first country to double its tiger population since the launch of the goal to double the world wild tiger population by 2022 \n",
      "Original summary: start tiger population doubles in nepal since 2009 end \n",
      "Predicted summary:  start tiger population rises to become world tiger end\n",
      "\n",
      "\n",
      "Review: pm narendra modi visited the haifa indian cemetery in israel today and paid his homage to indian soldiers who laid down their lives during the world war in 1918 am deeply honoured to stand here today to salute the valiant indian soldiers modi said the war heroes died while protecting haifa from the forces of the empire \n",
      "Original summary: start modi pays homage to indian world war heroes in israel end \n",
      "Predicted summary:  start pm modi pays tribute to india world war with israeli soldiers end\n",
      "\n",
      "\n",
      "Review: averaging 84 trips day one hour flight between singapore and malaysian capital kuala lumpur is the world busiest international route according to aviation worldwide in the top 20 list new york toronto was the busiest route outside asia the world busiest domestic route remains between south korean island and capital seoul where planes made nearly 65 000 trips in 2017 \n",
      "Original summary: start which is the world busiest international route end \n",
      "Predicted summary:  start singapore airlines named world best country end\n",
      "\n",
      "\n",
      "Review: matias the goalkeeper for the side bolivar scored from inside his own penalty area against club san jose on sunday after club san jose goalkeeper came up the pitch for corner late in the game collected the loose ball and struck it the full length of the pitch and into the net \n",
      "Original summary: start goalkeeper scores goal from his own penalty area in bolivia end \n",
      "Predicted summary:  start goalkeeper scores penalty from kick own own own goal end\n",
      "\n",
      "\n",
      "Review: all telecom equipment used by operators will have to undergo mandatory testing and get certified by authorised agencies from october 2018 according to government notification the fee charged for testing by the authorised agency shall not exceed ã¢ââ¹50 lakh the order said if telecom operator fails to adhere to the rules the government may take punitive action \n",
      "Original summary: start testing must for telecom equipment from october 2018 govt end \n",
      "Predicted summary:  start aadhaar plans to be used to be used by 2020 end\n",
      "\n",
      "\n",
      "Review: as many as 22 cases of localised outbreak of zika virus have been reported in rajasthan union health minister jp nadda said on monday seven member central team has been monitoring the situation and assisting in measures he added the zika virus which is transmitted by the mosquito causes birth defects and neurological problems like \n",
      "Original summary: start 22 cases of zika virus reported in rajasthan end \n",
      "Predicted summary:  start 4 cases reported in assam over nipah virus outbreak end\n",
      "\n",
      "\n",
      "Review: mark former ceo of failed japan based bitcoin exchange mt has said he lost 35 kg in four months in jail as lunch was actually two with jam was arrested and jailed in 2015 by police investigating the collapse of mt he said he doesn want 1 billion that he may receive once bankruptcy proceedings were over \n",
      "Original summary: start failed bitcoin exchange ceo lost 35 kgs in prison end \n",
      "Predicted summary:  start i was not lost in bitcoin since 2014 end\n",
      "\n",
      "\n",
      "Review: infosys co founder narayana murthy has called for modernisation of archaic and drafted laws many of these laws were drafted during the british rule with the aim of curbing the freedom of the people he said he further emphasised the need to train bureaucrats in drafting precise and laws and increasing the number of judges to ensure speedy justice \n",
      "Original summary: start old laws british set them to curb freedom murthy end \n",
      "Predicted summary:  start murthy calls laws for laws in laws end\n",
      "\n",
      "\n",
      "Review: after watching the trailer of sanjay dutt biopic sanju where ranbir kapoor is portraying sanjay rishi kapoor said swear on wife neetu and ranbir did not think it was ranbir thought it was sanjay dutt rishi added am so proud of him the trailer of the film will officially be released on may 30 \n",
      "Original summary: start thought ranbir was sanjay rishi on watching sanju trailer end \n",
      "Predicted summary:  start ranbir kapoor shares pic with ranbir kapoor with sanju end\n",
      "\n",
      "\n",
      "Review: google self driving car spinoff waymo has announced it is going to test its vehicles in california death valley which holds the record for the highest temperature recorded the ground temperature in death valley furnace creek which has been known to melt tyres can reach as high as 93 8 degrees celsius the cars have already been tested in extremely cold temperatures \n",
      "Original summary: start google to test driverless cars in of world hottest spots end \n",
      "Predicted summary:  start google to launch its 1st ever test by 2020 end\n",
      "\n",
      "\n",
      "Review: replying to whether the bjp would form political alliances for upcoming assembly elections chhattisgarh cm raman singh said ke dus sir ho liye ek ram hai the bjp has been in power in chhattisgarh since 2003 winning the last three assembly elections it won 49 seats in the 90 member assembly in 2013 \n",
      "Original summary: start ek ram hai chhattisgarh cm on bjp poll alliances end \n",
      "Predicted summary:  start ek bjp ko hai bjp leader end\n",
      "\n",
      "\n",
      "Review: sonali bendre who has been undergoing treatment for high grade cancer in new york since july has arrived in mumbai sharing her picture on instagram she wrote the fight is not yet over but m happy and looking forward to this happy interval it the joy to see my family and friends again she further wrote \n",
      "Original summary: start sonali bendre arrives in mumbai amid cancer treatment in us end \n",
      "Predicted summary:  start sonali bendre meets sonali bendre in mumbai end\n",
      "\n",
      "\n",
      "Review: the delhi high court on tuesday said entire delhi was unauthorised in response to the demolition of at colony which has been under encroachment by dwellers for about 35 40 years the court remarked this after being told that delhi development authority had carried out demolition of the of people ineligible for relocation despite being directed not to \n",
      "Original summary: start entire delhi is unauthorised delhi hc over demolition drive end \n",
      "Predicted summary:  start delhi hc dismisses delhi plea for hoax end\n",
      "\n",
      "\n",
      "Review: us president donald trump on thursday tweeted that he made no recordings or tapes of his conversations with the then fbi director james comey ending months of speculation about whether such tapes exist notably comey had said he hoped there were recordings of his conversations with the president while testifying before us senate committee earlier this month \n",
      "Original summary: start don have tapes of conversations with comey donald trump end \n",
      "Predicted summary:  start trump was never said he was never told me fbi end\n",
      "\n",
      "\n"
     ]
    }
   ],
   "source": [
    "for i in range(100,150):\n",
    "    print(\"Review:\", seq2text(x_tr[i]))\n",
    "    print(\"Original summary:\", seq2summary(y_tr[i]))\n",
    "    print(\"Predicted summary:\", decode_sequence(x_tr[i].reshape(1, max_text_len)))\n",
    "    print(\"\\n\")"
   ]
  },
  {
   "cell_type": "code",
   "execution_count": 75,
   "metadata": {},
   "outputs": [],
   "source": [
    "model.save('summarizer_model_v1.h5', save_format='h5')"
   ]
  },
  {
   "cell_type": "code",
   "execution_count": 80,
   "metadata": {},
   "outputs": [
    {
     "data": {
      "text/plain": [
       "array([[   23,   382, 11135, ...,     0,     0,     0],\n",
       "       [    1,    79,   528, ...,     0,     0,     0],\n",
       "       [    1,    46,   318, ...,     0,     0,     0],\n",
       "       ...,\n",
       "       [  114,   468,     8, ...,     0,     0,     0],\n",
       "       [ 1576,   542,   613, ...,     0,     0,     0],\n",
       "       [  580,  6706,  8509, ...,     0,     0,     0]], dtype=int32)"
      ]
     },
     "execution_count": 80,
     "metadata": {},
     "output_type": "execute_result"
    }
   ],
   "source": []
  },
  {
   "cell_type": "code",
   "execution_count": null,
   "metadata": {},
   "outputs": [],
   "source": []
  }
 ],
 "metadata": {
  "kernelspec": {
   "display_name": "Python 3 (ipykernel)",
   "language": "python",
   "name": "python3"
  },
  "language_info": {
   "codemirror_mode": {
    "name": "ipython",
    "version": 3
   },
   "file_extension": ".py",
   "mimetype": "text/x-python",
   "name": "python",
   "nbconvert_exporter": "python",
   "pygments_lexer": "ipython3",
   "version": "3.11.3"
  }
 },
 "nbformat": 4,
 "nbformat_minor": 4
}
