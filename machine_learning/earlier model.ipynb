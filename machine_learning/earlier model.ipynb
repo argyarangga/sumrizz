{
 "cells": [
  {
   "cell_type": "code",
   "execution_count": 2,
   "id": "2cbd9012",
   "metadata": {},
   "outputs": [
    {
     "name": "stdout",
     "output_type": "stream",
     "text": [
      "WARNING:tensorflow:From C:\\Users\\User\\AppData\\Local\\Programs\\Python\\Python311\\Lib\\site-packages\\keras\\src\\losses.py:2976: The name tf.losses.sparse_softmax_cross_entropy is deprecated. Please use tf.compat.v1.losses.sparse_softmax_cross_entropy instead.\n",
      "\n"
     ]
    },
    {
     "data": {
      "text/plain": [
       "<spacy.lang.en.English at 0x1f6acd38550>"
      ]
     },
     "execution_count": 2,
     "metadata": {},
     "output_type": "execute_result"
    }
   ],
   "source": [
    "import tensorflow\n",
    "import spacy\n",
    "import keras\n",
    "import numpy as np \n",
    "import pandas as pd \n",
    "import os\n",
    "spacy.load('en_core_web_sm')\n"
   ]
  },
  {
   "cell_type": "code",
   "execution_count": 4,
   "id": "abba9265",
   "metadata": {},
   "outputs": [],
   "source": [
    "#for dirname, _, filenames in os.walk('C:/Users/User/Downloads'):\n",
    " #   for filename in filenames:\n",
    "  #      print(os.path.join(dirname, filename))\n"
   ]
  },
  {
   "cell_type": "code",
   "execution_count": 5,
   "id": "c38a0727",
   "metadata": {},
   "outputs": [],
   "source": [
    "raw = pd.read_csv('news_summary.csv', encoding='iso-8859-1')"
   ]
  },
  {
   "cell_type": "code",
   "execution_count": 6,
   "id": "51788697-e70c-4d20-a892-b752359f1d42",
   "metadata": {},
   "outputs": [
    {
     "name": "stdout",
     "output_type": "stream",
     "text": [
      "The DataFrame has 4514 rows.\n"
     ]
    }
   ],
   "source": [
    "import pandas as pd\n",
    "\n",
    "df = pd.read_csv('C:/Users/User/Downloads/news_summary.csv', encoding='iso-8859-1')\n",
    "row_count = len(df)\n",
    "\n",
    "print(f'The DataFrame has {row_count} rows.')"
   ]
  },
  {
   "cell_type": "code",
   "execution_count": 7,
   "id": "7228fa4e",
   "metadata": {},
   "outputs": [],
   "source": [
    "pre1 =  raw.iloc[:4514,[4,5]].copy()"
   ]
  },
  {
   "cell_type": "code",
   "execution_count": 8,
   "id": "aeb55535",
   "metadata": {},
   "outputs": [],
   "source": [
    "pre = pd.DataFrame(pre1)"
   ]
  },
  {
   "cell_type": "code",
   "execution_count": 9,
   "id": "114e7ef8",
   "metadata": {
    "scrolled": true
   },
   "outputs": [
    {
     "data": {
      "text/html": [
       "<div>\n",
       "<style scoped>\n",
       "    .dataframe tbody tr th:only-of-type {\n",
       "        vertical-align: middle;\n",
       "    }\n",
       "\n",
       "    .dataframe tbody tr th {\n",
       "        vertical-align: top;\n",
       "    }\n",
       "\n",
       "    .dataframe thead th {\n",
       "        text-align: right;\n",
       "    }\n",
       "</style>\n",
       "<table border=\"1\" class=\"dataframe\">\n",
       "  <thead>\n",
       "    <tr style=\"text-align: right;\">\n",
       "      <th></th>\n",
       "      <th>text</th>\n",
       "      <th>ctext</th>\n",
       "    </tr>\n",
       "  </thead>\n",
       "  <tbody>\n",
       "    <tr>\n",
       "      <th>0</th>\n",
       "      <td>The Administration of Union Territory Daman an...</td>\n",
       "      <td>The Daman and Diu administration on Wednesday ...</td>\n",
       "    </tr>\n",
       "    <tr>\n",
       "      <th>1</th>\n",
       "      <td>Malaika Arora slammed an Instagram user who tr...</td>\n",
       "      <td>From her special numbers to TV?appearances, Bo...</td>\n",
       "    </tr>\n",
       "    <tr>\n",
       "      <th>2</th>\n",
       "      <td>The Indira Gandhi Institute of Medical Science...</td>\n",
       "      <td>The Indira Gandhi Institute of Medical Science...</td>\n",
       "    </tr>\n",
       "    <tr>\n",
       "      <th>3</th>\n",
       "      <td>Lashkar-e-Taiba's Kashmir commander Abu Dujana...</td>\n",
       "      <td>Lashkar-e-Taiba's Kashmir commander Abu Dujana...</td>\n",
       "    </tr>\n",
       "    <tr>\n",
       "      <th>4</th>\n",
       "      <td>Hotels in Maharashtra will train their staff t...</td>\n",
       "      <td>Hotels in Mumbai and other Indian cities are t...</td>\n",
       "    </tr>\n",
       "    <tr>\n",
       "      <th>5</th>\n",
       "      <td>A 32-year-old man on Wednesday was found hangi...</td>\n",
       "      <td>An alleged suspect in a kidnapping case was fo...</td>\n",
       "    </tr>\n",
       "  </tbody>\n",
       "</table>\n",
       "</div>"
      ],
      "text/plain": [
       "                                                text  \\\n",
       "0  The Administration of Union Territory Daman an...   \n",
       "1  Malaika Arora slammed an Instagram user who tr...   \n",
       "2  The Indira Gandhi Institute of Medical Science...   \n",
       "3  Lashkar-e-Taiba's Kashmir commander Abu Dujana...   \n",
       "4  Hotels in Maharashtra will train their staff t...   \n",
       "5  A 32-year-old man on Wednesday was found hangi...   \n",
       "\n",
       "                                               ctext  \n",
       "0  The Daman and Diu administration on Wednesday ...  \n",
       "1  From her special numbers to TV?appearances, Bo...  \n",
       "2  The Indira Gandhi Institute of Medical Science...  \n",
       "3  Lashkar-e-Taiba's Kashmir commander Abu Dujana...  \n",
       "4  Hotels in Mumbai and other Indian cities are t...  \n",
       "5  An alleged suspect in a kidnapping case was fo...  "
      ]
     },
     "execution_count": 9,
     "metadata": {},
     "output_type": "execute_result"
    }
   ],
   "source": [
    "pre.head(6)"
   ]
  },
  {
   "cell_type": "code",
   "execution_count": 10,
   "id": "c99ff743",
   "metadata": {},
   "outputs": [
    {
     "name": "stdout",
     "output_type": "stream",
     "text": [
      "                                                text  \\\n",
      "0  The Administration of Union Territory Daman an...   \n",
      "1  Malaika Arora slammed an Instagram user who tr...   \n",
      "\n",
      "                                               ctext  \n",
      "0  The Daman and Diu administration on Wednesday ...  \n",
      "1  From her special numbers to TV?appearances, Bo...  \n"
     ]
    }
   ],
   "source": [
    "print(pre.head(2))"
   ]
  },
  {
   "cell_type": "code",
   "execution_count": 12,
   "id": "7a5bd591",
   "metadata": {},
   "outputs": [
    {
     "name": "stdout",
     "output_type": "stream",
     "text": [
      "The Daman and Diu administration on Wednesday withdrew a circular that asked women staff to tie rakhis on male colleagues after the order triggered a backlash from employees and was ripped apart on social media.The union territory?s administration was forced to retreat within 24 hours of issuing the circular that made it compulsory for its staff to celebrate Rakshabandhan at workplace.?It has been decided to celebrate the festival of Rakshabandhan on August 7. In this connection, all offices/ departments shall remain open and celebrate the festival collectively at a suitable time wherein all the lady staff shall tie rakhis to their colleagues,? the order, issued on August 1 by Gurpreet Singh, deputy secretary (personnel), had said.To ensure that no one skipped office, an attendance report was to be sent to the government the next evening.The two notifications ? one mandating the celebration of Rakshabandhan (left) and the other withdrawing the mandate (right) ? were issued by the Daman and Diu administration a day apart. The circular was withdrawn through a one-line order issued late in the evening by the UT?s department of personnel and administrative reforms.?The circular is ridiculous. There are sensitivities involved. How can the government dictate who I should tie rakhi to? We should maintain the professionalism of a workplace? an official told Hindustan Times earlier in the day. She refused to be identified.The notice was issued on Daman and Diu administrator and former Gujarat home minister Praful Kodabhai Patel?s direction, sources said.Rakshabandhan, a celebration of the bond between brothers and sisters, is one of several Hindu festivities and rituals that are no longer confined of private, family affairs but have become tools to push politic al ideologies.In 2014, the year BJP stormed to power at the Centre, Rashtriya Swayamsevak Sangh (RSS) chief Mohan Bhagwat said the festival had ?national significance? and should be celebrated widely ?to protect Hindu culture and live by the values enshrined in it?. The RSS is the ideological parent of the ruling BJP.Last year, women ministers in the Modi government went to the border areas to celebrate the festival with soldiers. A year before, all cabinet ministers were asked to go to their constituencies for the festival.\n"
     ]
    }
   ],
   "source": [
    "print(pre['ctext'][0])"
   ]
  },
  {
   "cell_type": "code",
   "execution_count": 13,
   "id": "32ae2f66",
   "metadata": {},
   "outputs": [
    {
     "name": "stdout",
     "output_type": "stream",
     "text": [
      "The Administration of Union Territory Daman and Diu has revoked its order that made it compulsory for women to tie rakhis to their male colleagues on the occasion of Rakshabandhan on August 7. The administration was forced to withdraw the decision within 24 hours of issuing the circular after it received flak from employees and was slammed on social media.\n"
     ]
    }
   ],
   "source": [
    "print(pre['text'][0])"
   ]
  },
  {
   "cell_type": "markdown",
   "id": "141d45f2",
   "metadata": {},
   "source": [
    "# Data Cleansing"
   ]
  },
  {
   "cell_type": "code",
   "execution_count": 14,
   "id": "006006e6",
   "metadata": {},
   "outputs": [],
   "source": [
    "import re\n",
    "\n",
    "#Removes non-alphabetic characters:\n",
    "def text_strip(column):\n",
    "    for row in column:\n",
    "        \n",
    "        #ORDER OF REGEX IS VERY VERY IMPORTANT!!!!!!\n",
    "        \n",
    "        row=re.sub(r\"(\\\\t)\", ' ', str(row)).lower() #remove escape charecters\n",
    "        row=re.sub(r\"(\\\\r)\", ' ', str(row)).lower() \n",
    "        row=re.sub(r\"(\\\\n)\", ' ', str(row)).lower()\n",
    "        \n",
    "        row=re.sub(r\"(__+)\", ' ', str(row)).lower()   #remove _ if it occors more than one time consecutively\n",
    "        row=re.sub(r\"(--+)\", ' ', str(row)).lower()   #remove - if it occors more than one time consecutively\n",
    "        row=re.sub(r\"(~~+)\", ' ', str(row)).lower()   #remove ~ if it occors more than one time consecutively\n",
    "        row=re.sub(r\"(\\+\\++)\", ' ', str(row)).lower()   #remove + if it occors more than one time consecutively\n",
    "        row=re.sub(r\"(\\.\\.+)\", ' ', str(row)).lower()   #remove . if it occors more than one time consecutively\n",
    "        \n",
    "        row=re.sub(r\"[<>()|&©ø\\[\\]\\'\\\",;?~*!]\", ' ', str(row)).lower() #remove <>()|&©ø\"',;?~*!\n",
    "        \n",
    "        row=re.sub(r\"(mailto:)\", ' ', str(row)).lower() #remove mailto:\n",
    "        row=re.sub(r\"(\\\\x9\\d)\", ' ', str(row)).lower() #remove \\x9* in text\n",
    "        row=re.sub(r\"([iI][nN][cC]\\d+)\", 'INC_NUM', str(row)).lower() #replace INC nums to INC_NUM\n",
    "        row=re.sub(r\"([cC][mM]\\d+)|([cC][hH][gG]\\d+)\", 'CM_NUM', str(row)).lower() #replace CM# and CHG# to CM_NUM\n",
    "        \n",
    "        \n",
    "        row=re.sub(r\"(\\.\\s+)\", ' ', str(row)).lower() #remove full stop at end of words(not between)\n",
    "        row=re.sub(r\"(\\-\\s+)\", ' ', str(row)).lower() #remove - at end of words(not between)\n",
    "        row=re.sub(r\"(\\:\\s+)\", ' ', str(row)).lower() #remove : at end of words(not between)\n",
    "        \n",
    "        row=re.sub(r\"(\\s+.\\s+)\", ' ', str(row)).lower() #remove any single charecters hanging between 2 spaces\n",
    "        \n",
    "        #Replace any url as such https://abc.xyz.net/browse/sdf-5327 ====> abc.xyz.net\n",
    "        try:\n",
    "            url = re.search(r'((https*:\\/*)([^\\/\\s]+))(.[^\\s]+)', str(row))\n",
    "            repl_url = url.group(3)\n",
    "            row = re.sub(r'((https*:\\/*)([^\\/\\s]+))(.[^\\s]+)',repl_url, str(row))\n",
    "        except:\n",
    "            pass #there might be emails with no url in them\n",
    "        \n",
    "\n",
    "        \n",
    "        row = re.sub(r\"(\\s+)\",' ',str(row)).lower() #remove multiple spaces\n",
    "        \n",
    "        #Should always be last\n",
    "        row=re.sub(r\"(\\s+.\\s+)\", ' ', str(row)).lower() #remove any single charecters hanging between 2 spaces\n",
    "\n",
    "        \n",
    "        \n",
    "        yield row\n"
   ]
  },
  {
   "cell_type": "code",
   "execution_count": 16,
   "id": "b6151711",
   "metadata": {},
   "outputs": [],
   "source": [
    "brief_cleaning1 = list(text_strip(pre['ctext']))\n",
    "brief_cleaning2 = list(text_strip(pre['text']))"
   ]
  },
  {
   "cell_type": "code",
   "execution_count": 17,
   "id": "5505e2d9-ff2e-4f5a-a6b2-f3458d8bfe68",
   "metadata": {},
   "outputs": [
    {
     "name": "stdout",
     "output_type": "stream",
     "text": [
      "the daman and diu administration on wednesday withdrew circular that asked women staff to tie rakhis on male colleagues after the order triggered backlash from employees and was ripped apart on social media.the union territory administration was forced to retreat within 24 hours of issuing the circular that made it compulsory for its staff to celebrate rakshabandhan at workplace it has been decided to celebrate the festival of rakshabandhan on august in this connection all offices/ departments shall remain open and celebrate the festival collectively at suitable time wherein all the lady staff shall tie rakhis to their colleagues the order issued on august by gurpreet singh deputy secretary personnel had said.to ensure that no one skipped office an attendance report was to be sent to the government the next evening.the two notifications one mandating the celebration of rakshabandhan left and the other withdrawing the mandate right were issued by the daman and diu administration day apart the circular was withdrawn through one-line order issued late in the evening by the ut department of personnel and administrative reforms the circular is ridiculous there are sensitivities involved how can the government dictate who should tie rakhi to we should maintain the professionalism of workplace an official told hindustan times earlier in the day she refused to be identified.the notice was issued on daman and diu administrator and former gujarat home minister praful kodabhai patel direction sources said.rakshabandhan celebration of the bond between brothers and sisters is one of several hindu festivities and rituals that are no longer confined of private family affairs but have become tools to push politic al ideologies.in 2014 the year bjp stormed to power at the centre rashtriya swayamsevak sangh rss chief mohan bhagwat said the festival had national significance and should be celebrated widely to protect hindu culture and live by the values enshrined in it the rss is the ideological parent of the ruling bjp.last year women ministers in the modi government went to the border areas to celebrate the festival with soldiers year before all cabinet ministers were asked to go to their constituencies for the festival.\n"
     ]
    }
   ],
   "source": [
    "print(brief_cleaning1[0])"
   ]
  },
  {
   "cell_type": "code",
   "execution_count": 18,
   "id": "25a36b5b-5ac9-46b1-8966-103f8d482277",
   "metadata": {},
   "outputs": [
    {
     "name": "stdout",
     "output_type": "stream",
     "text": [
      "the administration of union territory daman and diu has revoked its order that made it compulsory for women to tie rakhis to their male colleagues on the occasion of rakshabandhan on august the administration was forced to withdraw the decision within 24 hours of issuing the circular after it received flak from employees and was slammed on social media.\n"
     ]
    }
   ],
   "source": [
    "print(brief_cleaning2[0])"
   ]
  },
  {
   "cell_type": "code",
   "execution_count": 22,
   "id": "220cc9cb",
   "metadata": {},
   "outputs": [
    {
     "name": "stdout",
     "output_type": "stream",
     "text": [
      "Processing time: 3.96 mins\n"
     ]
    }
   ],
   "source": [
    "import spacy\n",
    "from time import time\n",
    "\n",
    "t = time()\n",
    "\n",
    "nlp = spacy.load('en_core_web_sm', disable=['ner', 'parser']) \n",
    "\n",
    "# Process texts\n",
    "text = [str(doc) for doc in nlp.pipe(brief_cleaning1, batch_size=3000, n_process=-1)]\n",
    "\n",
    "print('Processing time: {} mins'.format(round((time() - t) / 60, 2)))"
   ]
  },
  {
   "cell_type": "code",
   "execution_count": 23,
   "id": "45b8425c",
   "metadata": {},
   "outputs": [
    {
     "name": "stdout",
     "output_type": "stream",
     "text": [
      "Time to clean up everything: 0.68 mins\n"
     ]
    }
   ],
   "source": [
    "#Taking advantage of spaCy .pipe() method to speed-up the cleaning process:\n",
    "\n",
    "\n",
    "t = time()\n",
    "\n",
    "#Batch the data points into 5000 and run on all cores for faster preprocessing\n",
    "summary = ['_START_ '+ str(doc) + ' _END_' for doc in nlp.pipe(brief_cleaning2, batch_size=5000,n_process=-1)]\n",
    "\n",
    "#Takes 7-8 mins\n",
    "print('Time to clean up everything: {} mins'.format(round((time() - t) / 60, 2)))\n"
   ]
  },
  {
   "cell_type": "code",
   "execution_count": 24,
   "id": "410cca2c-8ed2-44a5-ae72-c1ce3da6dbc9",
   "metadata": {},
   "outputs": [
    {
     "data": {
      "text/plain": [
       "'the daman and diu administration on wednesday withdrew circular that asked women staff to tie rakhis on male colleagues after the order triggered backlash from employees and was ripped apart on social media.the union territory administration was forced to retreat within 24 hours of issuing the circular that made it compulsory for its staff to celebrate rakshabandhan at workplace it has been decided to celebrate the festival of rakshabandhan on august in this connection all offices/ departments shall remain open and celebrate the festival collectively at suitable time wherein all the lady staff shall tie rakhis to their colleagues the order issued on august by gurpreet singh deputy secretary personnel had said.to ensure that no one skipped office an attendance report was to be sent to the government the next evening.the two notifications one mandating the celebration of rakshabandhan left and the other withdrawing the mandate right were issued by the daman and diu administration day apart the circular was withdrawn through one-line order issued late in the evening by the ut department of personnel and administrative reforms the circular is ridiculous there are sensitivities involved how can the government dictate who should tie rakhi to we should maintain the professionalism of workplace an official told hindustan times earlier in the day she refused to be identified.the notice was issued on daman and diu administrator and former gujarat home minister praful kodabhai patel direction sources said.rakshabandhan celebration of the bond between brothers and sisters is one of several hindu festivities and rituals that are no longer confined of private family affairs but have become tools to push politic al ideologies.in 2014 the year bjp stormed to power at the centre rashtriya swayamsevak sangh rss chief mohan bhagwat said the festival had national significance and should be celebrated widely to protect hindu culture and live by the values enshrined in it the rss is the ideological parent of the ruling bjp.last year women ministers in the modi government went to the border areas to celebrate the festival with soldiers year before all cabinet ministers were asked to go to their constituencies for the festival.'"
      ]
     },
     "execution_count": 24,
     "metadata": {},
     "output_type": "execute_result"
    }
   ],
   "source": [
    "text[0]"
   ]
  },
  {
   "cell_type": "code",
   "execution_count": 25,
   "id": "9301196e-d31f-4569-81d0-95a29bf3b9f5",
   "metadata": {},
   "outputs": [
    {
     "data": {
      "text/plain": [
       "'_START_ the administration of union territory daman and diu has revoked its order that made it compulsory for women to tie rakhis to their male colleagues on the occasion of rakshabandhan on august the administration was forced to withdraw the decision within 24 hours of issuing the circular after it received flak from employees and was slammed on social media. _END_'"
      ]
     },
     "execution_count": 25,
     "metadata": {},
     "output_type": "execute_result"
    }
   ],
   "source": [
    "summary[0]"
   ]
  },
  {
   "cell_type": "code",
   "execution_count": 26,
   "id": "417f7e82-3c6f-4e06-94af-8b93edc26d5d",
   "metadata": {},
   "outputs": [],
   "source": [
    "pre['cleaned_text'] = pd.Series(text)\n",
    "pre['cleaned_summary'] = pd.Series(summary)"
   ]
  },
  {
   "cell_type": "code",
   "execution_count": 27,
   "id": "be2e2807-e4a7-4a1e-a45f-ad3dc53952c0",
   "metadata": {},
   "outputs": [],
   "source": [
    "text_count = []\n",
    "summary_count = []"
   ]
  },
  {
   "cell_type": "code",
   "execution_count": 28,
   "id": "089ffb20-b8cb-422e-984e-d1593b67610f",
   "metadata": {},
   "outputs": [],
   "source": [
    "for sent in pre['cleaned_text']:\n",
    "    text_count.append(len(sent.split()))\n",
    "for sent in pre['cleaned_summary']:\n",
    "    summary_count.append(len(sent.split()))"
   ]
  },
  {
   "cell_type": "code",
   "execution_count": 57,
   "id": "892ad041-dd89-445b-88c7-f21190216cad",
   "metadata": {},
   "outputs": [
    {
     "name": "stdout",
     "output_type": "stream",
     "text": [
      "353\n",
      "61\n"
     ]
    }
   ],
   "source": [
    "print(text_count[0])\n",
    "print(summary_count[0])"
   ]
  },
  {
   "cell_type": "code",
   "execution_count": 58,
   "id": "7f3bb169-c0f5-4b92-965e-074180a721d3",
   "metadata": {},
   "outputs": [],
   "source": [
    "graph_df= pd.DataFrame()\n",
    "graph_df['text']=text_count\n",
    "graph_df['summary']=summary_count"
   ]
  },
  {
   "cell_type": "code",
   "execution_count": 59,
   "id": "0dfda844-b07c-4fbf-80e0-20e7642383d8",
   "metadata": {},
   "outputs": [
    {
     "data": {
      "image/png": "[encoded data removed]",
      "text/plain": [
       "<Figure size 640x480 with 2 Axes>"
      ]
     },
     "metadata": {},
     "output_type": "display_data"
    }
   ],
   "source": [
    "import matplotlib.pyplot as plt\n",
    "\n",
    "graph_df.hist(bins = 5)\n",
    "plt.show()"
   ]
  },
  {
   "cell_type": "code",
   "execution_count": 62,
   "id": "98e67594-15ca-474e-90c0-944de6570062",
   "metadata": {},
   "outputs": [
    {
     "name": "stdout",
     "output_type": "stream",
     "text": [
      "1.0\n"
     ]
    }
   ],
   "source": [
    "#Check how much % of summary have 0-15 words\n",
    "cnt=0\n",
    "for i in pre['cleaned_summary']:\n",
    "    if(len(i.split())<=65):\n",
    "        cnt=cnt+1\n",
    "print(cnt/len(pre['cleaned_summary']))"
   ]
  },
  {
   "cell_type": "code",
   "execution_count": 63,
   "id": "0de92e60-5e07-4cba-abd6-0291452157df",
   "metadata": {},
   "outputs": [
    {
     "name": "stdout",
     "output_type": "stream",
     "text": [
      "0.8630926007975188\n"
     ]
    }
   ],
   "source": [
    "#Check how much % of text have 0-70 words\n",
    "cnt=0\n",
    "for i in pre['cleaned_text']:\n",
    "    if(len(i.split())<=500):\n",
    "        cnt=cnt+1\n",
    "print(cnt/len(pre['cleaned_text']))"
   ]
  },
  {
   "cell_type": "code",
   "execution_count": 64,
   "id": "a2f10e2e-383f-44a9-9a70-aa86b327d253",
   "metadata": {},
   "outputs": [],
   "source": [
    "#Model to summarize the text between 0-15 words for Summary and 0-100 words for Text\n",
    "max_text_len=500\n",
    "max_summary_len=65"
   ]
  },
  {
   "cell_type": "code",
   "execution_count": 65,
   "id": "34f65f91-0f8b-481f-b4ab-042117ac206a",
   "metadata": {},
   "outputs": [],
   "source": [
    "#Select the Summaries and Text between max len defined above\n",
    "\n",
    "cleaned_text =np.array(pre['cleaned_text'])\n",
    "cleaned_summary=np.array(pre['cleaned_summary'])\n",
    "\n",
    "short_text=[]\n",
    "short_summary=[]\n",
    "\n",
    "for i in range(len(cleaned_text)):\n",
    "    if(len(cleaned_summary[i].split())<=max_summary_len and len(cleaned_text[i].split())<=max_text_len):\n",
    "        short_text.append(cleaned_text[i])\n",
    "        short_summary.append(cleaned_summary[i])\n",
    "        \n",
    "post_pre=pd.DataFrame({'text':short_text,'summary':short_summary})"
   ]
  },
  {
   "cell_type": "code",
   "execution_count": 66,
   "id": "078ab845-7e22-4cf7-bca0-d02cf4e226d3",
   "metadata": {},
   "outputs": [
    {
     "name": "stdout",
     "output_type": "stream",
     "text": [
      "118\n"
     ]
    }
   ],
   "source": [
    "count_nan = 0\n",
    "\n",
    "for i in range(len(post_pre)):\n",
    "    if post_pre['text'][i] == 'nan':\n",
    "        count_nan += 1\n",
    "\n",
    "print(count_nan)"
   ]
  },
  {
   "cell_type": "code",
   "execution_count": 67,
   "id": "614d4944-99b3-4905-b5c8-6862f73577b5",
   "metadata": {},
   "outputs": [
    {
     "data": {
      "text/html": [
       "<div>\n",
       "<style scoped>\n",
       "    .dataframe tbody tr th:only-of-type {\n",
       "        vertical-align: middle;\n",
       "    }\n",
       "\n",
       "    .dataframe tbody tr th {\n",
       "        vertical-align: top;\n",
       "    }\n",
       "\n",
       "    .dataframe thead th {\n",
       "        text-align: right;\n",
       "    }\n",
       "</style>\n",
       "<table border=\"1\" class=\"dataframe\">\n",
       "  <thead>\n",
       "    <tr style=\"text-align: right;\">\n",
       "      <th></th>\n",
       "      <th>text</th>\n",
       "      <th>summary</th>\n",
       "    </tr>\n",
       "  </thead>\n",
       "  <tbody>\n",
       "    <tr>\n",
       "      <th>0</th>\n",
       "      <td>the daman and diu administration on wednesday ...</td>\n",
       "      <td>_START_ the administration of union territory ...</td>\n",
       "    </tr>\n",
       "    <tr>\n",
       "      <th>1</th>\n",
       "      <td>from her special numbers to tv appearances bol...</td>\n",
       "      <td>_START_ malaika arora slammed an instagram use...</td>\n",
       "    </tr>\n",
       "    <tr>\n",
       "      <th>2</th>\n",
       "      <td>the indira gandhi institute of medical science...</td>\n",
       "      <td>_START_ the indira gandhi institute of medical...</td>\n",
       "    </tr>\n",
       "    <tr>\n",
       "      <th>3</th>\n",
       "      <td>lashkar-e-taiba kashmir commander abu dujana w...</td>\n",
       "      <td>_START_ lashkar-e-taiba kashmir commander abu ...</td>\n",
       "    </tr>\n",
       "    <tr>\n",
       "      <th>4</th>\n",
       "      <td>an alleged suspect in kidnapping case was foun...</td>\n",
       "      <td>_START_ a 32-year-old man on wednesday was fou...</td>\n",
       "    </tr>\n",
       "    <tr>\n",
       "      <th>5</th>\n",
       "      <td>in an interesting ruling the delhi high court ...</td>\n",
       "      <td>_START_ the delhi high court reduced the compe...</td>\n",
       "    </tr>\n",
       "    <tr>\n",
       "      <th>6</th>\n",
       "      <td>two years after helicopter crash near the bomb...</td>\n",
       "      <td>_START_ an inquiry by the aircraft accident in...</td>\n",
       "    </tr>\n",
       "    <tr>\n",
       "      <th>7</th>\n",
       "      <td>it sounds like satire but make no mistake at t...</td>\n",
       "      <td>_START_ the congress party has opened bank cal...</td>\n",
       "    </tr>\n",
       "    <tr>\n",
       "      <th>8</th>\n",
       "      <td>the food safety and standards authority of ind...</td>\n",
       "      <td>_START_ india food regulator food safety and s...</td>\n",
       "    </tr>\n",
       "    <tr>\n",
       "      <th>9</th>\n",
       "      <td>bharti sharma mother of the 16-year-old boy wh...</td>\n",
       "      <td>_START_ the mother of harshit sharma the class...</td>\n",
       "    </tr>\n",
       "  </tbody>\n",
       "</table>\n",
       "</div>"
      ],
      "text/plain": [
       "                                                text  \\\n",
       "0  the daman and diu administration on wednesday ...   \n",
       "1  from her special numbers to tv appearances bol...   \n",
       "2  the indira gandhi institute of medical science...   \n",
       "3  lashkar-e-taiba kashmir commander abu dujana w...   \n",
       "4  an alleged suspect in kidnapping case was foun...   \n",
       "5  in an interesting ruling the delhi high court ...   \n",
       "6  two years after helicopter crash near the bomb...   \n",
       "7  it sounds like satire but make no mistake at t...   \n",
       "8  the food safety and standards authority of ind...   \n",
       "9  bharti sharma mother of the 16-year-old boy wh...   \n",
       "\n",
       "                                             summary  \n",
       "0  _START_ the administration of union territory ...  \n",
       "1  _START_ malaika arora slammed an instagram use...  \n",
       "2  _START_ the indira gandhi institute of medical...  \n",
       "3  _START_ lashkar-e-taiba kashmir commander abu ...  \n",
       "4  _START_ a 32-year-old man on wednesday was fou...  \n",
       "5  _START_ the delhi high court reduced the compe...  \n",
       "6  _START_ an inquiry by the aircraft accident in...  \n",
       "7  _START_ the congress party has opened bank cal...  \n",
       "8  _START_ india food regulator food safety and s...  \n",
       "9  _START_ the mother of harshit sharma the class...  "
      ]
     },
     "execution_count": 67,
     "metadata": {},
     "output_type": "execute_result"
    }
   ],
   "source": [
    "post_pre.head(10)"
   ]
  },
  {
   "cell_type": "code",
   "execution_count": 68,
   "id": "46dd39a0-a8a8-4627-9c70-144e78e4871f",
   "metadata": {},
   "outputs": [
    {
     "name": "stdout",
     "output_type": "stream",
     "text": [
      "the daman and diu administration on wednesday withdrew circular that asked women staff to tie rakhis on male colleagues after the order triggered backlash from employees and was ripped apart on social media.the union territory administration was forced to retreat within 24 hours of issuing the circular that made it compulsory for its staff to celebrate rakshabandhan at workplace it has been decided to celebrate the festival of rakshabandhan on august in this connection all offices/ departments shall remain open and celebrate the festival collectively at suitable time wherein all the lady staff shall tie rakhis to their colleagues the order issued on august by gurpreet singh deputy secretary personnel had said.to ensure that no one skipped office an attendance report was to be sent to the government the next evening.the two notifications one mandating the celebration of rakshabandhan left and the other withdrawing the mandate right were issued by the daman and diu administration day apart the circular was withdrawn through one-line order issued late in the evening by the ut department of personnel and administrative reforms the circular is ridiculous there are sensitivities involved how can the government dictate who should tie rakhi to we should maintain the professionalism of workplace an official told hindustan times earlier in the day she refused to be identified.the notice was issued on daman and diu administrator and former gujarat home minister praful kodabhai patel direction sources said.rakshabandhan celebration of the bond between brothers and sisters is one of several hindu festivities and rituals that are no longer confined of private family affairs but have become tools to push politic al ideologies.in 2014 the year bjp stormed to power at the centre rashtriya swayamsevak sangh rss chief mohan bhagwat said the festival had national significance and should be celebrated widely to protect hindu culture and live by the values enshrined in it the rss is the ideological parent of the ruling bjp.last year women ministers in the modi government went to the border areas to celebrate the festival with soldiers year before all cabinet ministers were asked to go to their constituencies for the festival.\n"
     ]
    }
   ],
   "source": [
    "print(post_pre['text'][0])"
   ]
  },
  {
   "cell_type": "code",
   "execution_count": 69,
   "id": "579cdaf9-72f4-4f8d-b921-bf9578d06bca",
   "metadata": {},
   "outputs": [],
   "source": [
    "#Add sostok and eostok at \n",
    "post_pre['summary'] = post_pre['summary'].apply(lambda x : 'sostok '+ x + ' eostok')\n"
   ]
  },
  {
   "cell_type": "code",
   "execution_count": 70,
   "id": "73d18495-b123-4513-bc05-1f5c1c4bab30",
   "metadata": {},
   "outputs": [
    {
     "data": {
      "text/html": [
       "<div>\n",
       "<style scoped>\n",
       "    .dataframe tbody tr th:only-of-type {\n",
       "        vertical-align: middle;\n",
       "    }\n",
       "\n",
       "    .dataframe tbody tr th {\n",
       "        vertical-align: top;\n",
       "    }\n",
       "\n",
       "    .dataframe thead th {\n",
       "        text-align: right;\n",
       "    }\n",
       "</style>\n",
       "<table border=\"1\" class=\"dataframe\">\n",
       "  <thead>\n",
       "    <tr style=\"text-align: right;\">\n",
       "      <th></th>\n",
       "      <th>text</th>\n",
       "      <th>summary</th>\n",
       "    </tr>\n",
       "  </thead>\n",
       "  <tbody>\n",
       "    <tr>\n",
       "      <th>0</th>\n",
       "      <td>the daman and diu administration on wednesday ...</td>\n",
       "      <td>sostok _START_ the administration of union ter...</td>\n",
       "    </tr>\n",
       "    <tr>\n",
       "      <th>1</th>\n",
       "      <td>from her special numbers to tv appearances bol...</td>\n",
       "      <td>sostok _START_ malaika arora slammed an instag...</td>\n",
       "    </tr>\n",
       "  </tbody>\n",
       "</table>\n",
       "</div>"
      ],
      "text/plain": [
       "                                                text  \\\n",
       "0  the daman and diu administration on wednesday ...   \n",
       "1  from her special numbers to tv appearances bol...   \n",
       "\n",
       "                                             summary  \n",
       "0  sostok _START_ the administration of union ter...  \n",
       "1  sostok _START_ malaika arora slammed an instag...  "
      ]
     },
     "execution_count": 70,
     "metadata": {},
     "output_type": "execute_result"
    }
   ],
   "source": [
    "post_pre.head(2)"
   ]
  },
  {
   "cell_type": "markdown",
   "id": "16cc90fd-5c70-456d-8689-21bef58997e7",
   "metadata": {},
   "source": [
    "MODEL BUILDING"
   ]
  },
  {
   "cell_type": "code",
   "execution_count": 71,
   "id": "0681b63d-2603-4d68-9f53-b5213696e4ac",
   "metadata": {},
   "outputs": [],
   "source": [
    "from sklearn.model_selection import train_test_split\n",
    "x_tr,x_val,y_tr,y_val=train_test_split(np.array(post_pre['text']),np.array(post_pre['summary']),test_size=0.1,random_state=0,shuffle=True)"
   ]
  },
  {
   "cell_type": "code",
   "execution_count": 72,
   "id": "1f7f4999-925c-4f2d-8826-c8beb962786b",
   "metadata": {},
   "outputs": [
    {
     "name": "stdout",
     "output_type": "stream",
     "text": [
      "3506\n"
     ]
    }
   ],
   "source": [
    "jumlah=0\n",
    "for i in range(len(x_tr)):\n",
    "    jumlah+=1\n",
    "print(jumlah)"
   ]
  },
  {
   "cell_type": "raw",
   "id": "cc92bc60-217c-49d7-92b8-a22bc63bb3eb",
   "metadata": {},
   "source": []
  },
  {
   "cell_type": "code",
   "execution_count": 73,
   "id": "c5c51a96-82fc-463b-a774-7a77f0aadc78",
   "metadata": {},
   "outputs": [
    {
     "name": "stdout",
     "output_type": "stream",
     "text": [
      "farzaneh shrafbafi professor of aeronautical engineering at amir kabir university of technology and shahid sattari university of aeronautical engineering and the first iranian woman to get ph.d in aerospace was selected from among the board members of iran air.farzaneh shrafbafi aeronautical engineering professor will become first female ceo of #iran oldest airline @iranair_iri pic.twitter.com/rnw7tknmlmin an interview given to an iranian daily back in 2014 farzaneh told the newspaper that she was always keen student of science her father who was physics professor at sharif university helped shape her interest in the field \n"
     ]
    }
   ],
   "source": [
    "print(x_val[1])"
   ]
  },
  {
   "cell_type": "code",
   "execution_count": 74,
   "id": "8ef47d3d-179b-4059-b1a5-454701cec0b0",
   "metadata": {},
   "outputs": [
    {
     "name": "stdout",
     "output_type": "stream",
     "text": [
      "more than 200 sheep have plunged to their deaths in the pyrenees while apparently trying to escape brown bear the bears have been reintroduced to the mountain region over the past three decades after being wiped out by hunters.the sheep which belonged to farmer in couflens south-west france are thought to have taken fright when the bear appeared in the area last sunday.after the predator attacked one of the sheep 209 others in the flock panicked and hurled themselves off 200 metre-high cliff on the border between france and spain the bodies of 169 sheep were found the next day at the foot of the cliff in the spanish village of lladorre the other dead animals were found in france.the spanish news agency europa press said bear fur had been found on one of the dead sheep and would be analysed to try to establish exactly what had happened.although the french government will compensate the farmer for his loss the incident has provoked an angry response from the local branch of the french farmers federation pastoralism which protects biodiversity and keeps the mountains alive is not compatible with the reintroduction of large predators said the confédération paysanne de ariège.the last female brown bear native to the pyrenees was shot dead by hunters in 2004 the french government has been engaged in repopulation programme since the early 1990s using bears from slovenia there are now thought to be about 30 brown bears in the region.more than 130 sheep died in similar bear-related incident in the french pyrenees last year.farmers on both sides of the border blame the bears for attacks on their livestock and the predators are sometimes killed in september last year the corpse of brown bear protected species in spain was found with gunshot wound to the chest in the northern regions of asturias.\n",
      "\n",
      "\n",
      "sostok _START_ over 200 sheep plunged to their deaths from 200 metre-high cliff on the france-spain border while reportedly trying to escape brown bear the bodies of 169 sheep were found in spanish village lladorre while the rest were found in france the flock of sheep belonging to french farmer had panicked after the bear attacked one of them. _END_ eostok\n",
      "\n",
      "\n",
      "a 36-year-old woman and her teenage daughter fell ill after they accidentally cooked and ate baby snake along with cabbage in indore.afzaan imam and her daughter aamna 15 said soon after consuming the vegetable on thursday night they felt queasy and started vomiting had cooked cabbage for dinner after consuming some suddenly bit into something bitter and immediately felt unwell my daughter also felt the same when checked the cabbage found piece of snake inside afzaan said.they were rushed to the my hospital by family members where their situation is said to be stable now according to doctors they just vomited lot after being admitted an attending doctor said snake poison becomes dangerous when it mixes in blood and gets circulated we will monitor the condition of both the patients for the next couple of days dr dharmendra jhanwar of the medicine department at the hospital said.he said afzaan and aamna are being subjected to various check-ups to ascertain if the consumption of the reptile has caused any damage to their body tissues with agency inputs \n",
      "\n",
      "\n",
      "sostok _START_ a 36-year-old woman and her teenage daughter fell ill after they accidentally cooked and ate baby snake along with cabbage in indore madhya pradesh snake poison becomes dangerous when it mixes in blood and gets circulated we will monitor the condition of both the patients for the next couple of days doctor treating the mother-daughter duo said. _END_ eostok\n",
      "\n",
      "\n"
     ]
    }
   ],
   "source": [
    "for i in range(2):\n",
    "    print(x_tr[i])\n",
    "    print('\\n')\n",
    "    print(y_tr[i])\n",
    "    print('\\n')"
   ]
  },
  {
   "cell_type": "code",
   "execution_count": 75,
   "id": "bebf69f1-7ba9-45e0-b7e2-71818751bdc4",
   "metadata": {},
   "outputs": [
    {
     "name": "stdout",
     "output_type": "stream",
     "text": [
      "doctors in the uk have found 27 contact lenses stuck in 67-year-old woman eye while they were preparing her for cataract surgery.the lenses which resembled blueish mass in the patient eye were causing her discomfort that she simply attributed to dry eye and old age.the case happened in november last year but has just been reported in the british medical journal according to metro.co.uk none of us have ever seen this before it was such large mass all the 17 contact lenses were stuck together we were really surprised that the patient did not notice it because it would cause quite lot of irritation while it was sitting there rupal morjaria specialist trainee ophthalmologist who dealt with the case at solihull hospital near birmingham said.initially eye specialists discovered 17 lenses before further examination disclosed that another 10 lenses were stuck in the eye.the patient said she had been wearing monthly disposable contact lenses for 35 years but did not attend regular appointments.as result of the findings the woman who said she was unaware that the lenses were missing had her operation postponed as the risk of developing endophthalmitis inflammation of the interior of the eye was increased she was quite shocked when she was seen two weeks after removed the lenses she said her eyes felt lot more comfortable morjaria said.\n",
      "\n",
      "\n",
      "sostok _START_ uk doctors have found 27 contact lenses stuck together in 67-year-old woman eye while they were preparing her for cataract surgery the blueish mass was causing her discomfort that she attributed to dry eye and old age doctors said the patient said she had been wearing disposable contact lenses for 35 years but did not attend regular appointments. _END_ eostok\n",
      "\n",
      "\n",
      "farzaneh shrafbafi professor of aeronautical engineering at amir kabir university of technology and shahid sattari university of aeronautical engineering and the first iranian woman to get ph.d in aerospace was selected from among the board members of iran air.farzaneh shrafbafi aeronautical engineering professor will become first female ceo of #iran oldest airline @iranair_iri pic.twitter.com/rnw7tknmlmin an interview given to an iranian daily back in 2014 farzaneh told the newspaper that she was always keen student of science her father who was physics professor at sharif university helped shape her interest in the field \n",
      "\n",
      "\n",
      "sostok _START_ iran has appointed its first female ceo to lead its national carrier iran air since the airline inception in 1944 forty-four-year-old farzaneh sharafbani who also holds phd in aerospace engineering is the first woman to head iran air in over 70 years she was appointed by president hassan rouhani administration which has chosen women to lead several managerial posts  _END_ eostok\n",
      "\n",
      "\n"
     ]
    }
   ],
   "source": [
    "for i in range(2):\n",
    "    print(x_val[i])\n",
    "    print('\\n')\n",
    "    print(y_val[i])\n",
    "    print('\\n')"
   ]
  },
  {
   "cell_type": "code",
   "execution_count": 76,
   "id": "07c45fe6-343e-45d5-b851-060648ddd857",
   "metadata": {},
   "outputs": [],
   "source": [
    "#jumlah=0\n",
    "#for i in range(len(x_val)):\n",
    "#    jumlah+=1\n",
    "#print(jumlah)"
   ]
  },
  {
   "cell_type": "code",
   "execution_count": null,
   "id": "c9a59d67-6341-47ad-8d93-4d6608457931",
   "metadata": {},
   "outputs": [],
   "source": []
  },
  {
   "cell_type": "code",
   "execution_count": 77,
   "id": "222b49e5-1a7c-4134-b20a-7f1327299e4c",
   "metadata": {},
   "outputs": [],
   "source": [
    "#Lets tokenize the text to get the vocab count , you can use Spacy here also\n",
    "\n",
    "from keras.preprocessing.text import Tokenizer \n",
    "from keras.preprocessing.sequence import pad_sequences\n",
    "\n",
    "#prepare a tokenizer for reviews on training data\n",
    "x_tokenizer = Tokenizer() \n",
    "x_tokenizer.fit_on_texts(list(x_tr))"
   ]
  },
  {
   "cell_type": "code",
   "execution_count": null,
   "id": "65bc2a16-1a36-4d90-9d4e-cd6d0c50a2aa",
   "metadata": {},
   "outputs": [],
   "source": []
  },
  {
   "cell_type": "code",
   "execution_count": 78,
   "id": "7405b593-a923-4174-8dbd-46f08d3c9ca2",
   "metadata": {},
   "outputs": [
    {
     "name": "stdout",
     "output_type": "stream",
     "text": [
      "% of rare words in vocabulary: 62.852604340139884\n",
      "Total Coverage of rare words: 4.062663326544957\n"
     ]
    }
   ],
   "source": [
    "thresh=4\n",
    "\n",
    "cnt=0\n",
    "tot_cnt=0\n",
    "freq=0\n",
    "tot_freq=0\n",
    "\n",
    "for key,value in x_tokenizer.word_counts.items():\n",
    "    tot_cnt=tot_cnt+1\n",
    "    tot_freq=tot_freq+value\n",
    "    if(value<thresh):\n",
    "        cnt=cnt+1\n",
    "        freq=freq+value\n",
    "    \n",
    "print(\"% of rare words in vocabulary:\",(cnt/tot_cnt)*100)\n",
    "print(\"Total Coverage of rare words:\",(freq/tot_freq)*100)"
   ]
  },
  {
   "cell_type": "code",
   "execution_count": 79,
   "id": "25a20569-b34d-4bbc-9f36-ef4713ae3333",
   "metadata": {},
   "outputs": [
    {
     "name": "stdout",
     "output_type": "stream",
     "text": [
      "Size of vocabulary in X = 14500\n"
     ]
    }
   ],
   "source": [
    "#prepare a tokenizer for reviews on training data\n",
    "x_tokenizer = Tokenizer(num_words=tot_cnt-cnt) \n",
    "x_tokenizer.fit_on_texts(list(x_tr))\n",
    "\n",
    "#convert text sequences into integer sequences (i.e one-hot encodeing all the words)\n",
    "x_tr_seq    =   x_tokenizer.texts_to_sequences(x_tr) \n",
    "x_val_seq   =   x_tokenizer.texts_to_sequences(x_val)\n",
    "\n",
    "#padding zero upto maximum length\n",
    "x_tr    =   pad_sequences(x_tr_seq,  maxlen=max_text_len, padding='post')\n",
    "x_val   =   pad_sequences(x_val_seq, maxlen=max_text_len, padding='post')\n",
    "\n",
    "#size of vocabulary ( +1 for padding token)\n",
    "x_voc   =  x_tokenizer.num_words + 1\n",
    "\n",
    "print(\"Size of vocabulary in X = {}\".format(x_voc))"
   ]
  },
  {
   "cell_type": "code",
   "execution_count": 80,
   "id": "41c50c6f-da1c-4bc0-8aa6-e002997116e1",
   "metadata": {},
   "outputs": [],
   "source": [
    "#x_tokenizer.word_index"
   ]
  },
  {
   "cell_type": "code",
   "execution_count": 81,
   "id": "e0152416-fc7c-46ed-8668-fc5bd0b4607f",
   "metadata": {},
   "outputs": [
    {
     "name": "stdout",
     "output_type": "stream",
     "text": [
      "more than 200 sheep have to their deaths in the while apparently trying to escape brown bear the bears have been to the mountain region over the past three decades after being out by hunters the sheep which belonged to farmer in south west france are thought to have taken when the bear appeared in the area last sunday after the attacked one of the sheep others in the flock panicked and hurled themselves off 200 metre high on the border between france and spain the bodies of 169 sheep were found the next day at the foot of the in the spanish village of the other dead animals were found in france the spanish news agency press said bear fur had been found on one of the dead sheep and would be analysed to try to establish exactly what had happened although the french government will compensate the farmer for his loss the incident has provoked an angry response from the local branch of the french farmers federation which biodiversity and keeps the mountains alive is not compatible with the of large predators said the de the last female brown bear native to the was shot dead by hunters in 2004 the french government has been engaged in programme since the early 1990s using bears from there are now thought to be about 30 brown bears in the region more than 130 sheep died in similar bear related incident in the french last year farmers on both sides of the border blame the bears for attacks on their livestock and the predators are sometimes killed in september last year the of brown bear protected species in spain was found with to the chest in the northern regions of\n",
      "\n",
      "\n",
      "doctors in the uk have found 27 contact stuck in 67 year old woman eye while they were preparing her for surgery the which mass in the patient eye were causing her discomfort that she simply attributed to dry eye and old age the case happened in november last year but has just been reported in the british medical journal according to metro co uk none of us have ever seen this before it was such large mass all the 17 contact were stuck together we were really surprised that the patient did not notice it because it would cause quite lot of while it was sitting there specialist trainee who dealt with the case at hospital near birmingham said initially eye discovered 17 before further examination disclosed that another 10 were stuck in the eye the patient said she had been wearing monthly contact for 35 years but did not attend regular appointments as result of the findings the woman who said she was unaware that the were missing had her operation postponed as the risk of developing of the interior of the eye was increased she was quite shocked when she was seen two weeks after removed the she said her eyes felt lot more comfortable said\n"
     ]
    }
   ],
   "source": [
    "\n",
    "reverse_source_word_index=x_tokenizer.index_word\n",
    "\n",
    "x_tr_text    =   x_tokenizer.sequences_to_texts(x_tr) \n",
    "x_val_text   =   x_tokenizer.sequences_to_texts(x_val)\n",
    "\n",
    "print(x_tr_text[0])\n",
    "print('\\n')\n",
    "print(x_val_text[0])"
   ]
  },
  {
   "cell_type": "code",
   "execution_count": 82,
   "id": "77f734c4-1576-4d00-a015-a162c8e77ba8",
   "metadata": {},
   "outputs": [],
   "source": [
    "#prepare a tokenizer for reviews on training data\n",
    "y_tokenizer = Tokenizer()   \n",
    "y_tokenizer.fit_on_texts(list(y_tr))"
   ]
  },
  {
   "cell_type": "code",
   "execution_count": 83,
   "id": "a029c2d7-3dd6-4003-8871-bcd31f84683d",
   "metadata": {},
   "outputs": [],
   "source": [
    "#y_tokenizer.word_index"
   ]
  },
  {
   "cell_type": "code",
   "execution_count": 84,
   "id": "0a5dfe2b-8fe1-496c-9492-9c755b7a4b08",
   "metadata": {},
   "outputs": [
    {
     "name": "stdout",
     "output_type": "stream",
     "text": [
      "% of rare words in vocabulary: 76.38517830177722\n",
      "Total Coverage of rare words: 11.296879764203679\n"
     ]
    }
   ],
   "source": [
    "thresh=6\n",
    "\n",
    "cnt=0\n",
    "tot_cnt=0\n",
    "freq=0\n",
    "tot_freq=0\n",
    "\n",
    "for key,value in y_tokenizer.word_counts.items():\n",
    "    tot_cnt=tot_cnt+1\n",
    "    tot_freq=tot_freq+value\n",
    "    if(value<thresh):\n",
    "        cnt=cnt+1\n",
    "        freq=freq+value\n",
    "    \n",
    "print(\"% of rare words in vocabulary:\",(cnt/tot_cnt)*100)\n",
    "print(\"Total Coverage of rare words:\",(freq/tot_freq)*100)"
   ]
  },
  {
   "cell_type": "code",
   "execution_count": 85,
   "id": "9fe5203f-d97c-4ef3-8f53-6b019f31c173",
   "metadata": {},
   "outputs": [
    {
     "name": "stdout",
     "output_type": "stream",
     "text": [
      "Size of vocabulary in Y = 4067\n"
     ]
    }
   ],
   "source": [
    "#prepare a tokenizer for reviews on training data\n",
    "y_tokenizer = Tokenizer(num_words=tot_cnt-cnt) \n",
    "y_tokenizer.fit_on_texts(list(y_tr))\n",
    "\n",
    "#convert text sequences into integer sequences (i.e one hot encode the text in Y)\n",
    "y_tr_seq    =   y_tokenizer.texts_to_sequences(y_tr) \n",
    "y_val_seq   =   y_tokenizer.texts_to_sequences(y_val) \n",
    "\n",
    "#padding zero upto maximum length\n",
    "y_tr    =   pad_sequences(y_tr_seq, maxlen=max_summary_len, padding='post')\n",
    "y_val   =   pad_sequences(y_val_seq, maxlen=max_summary_len, padding='post')\n",
    "\n",
    "#size of vocabulary\n",
    "y_voc  =   y_tokenizer.num_words +1\n",
    "print(\"Size of vocabulary in Y = {}\".format(y_voc))"
   ]
  },
  {
   "cell_type": "code",
   "execution_count": 86,
   "id": "79acb013-b184-4a0c-8dcb-dcd838891d2f",
   "metadata": {},
   "outputs": [
    {
     "name": "stdout",
     "output_type": "stream",
     "text": [
      "sostok start over 200 to their deaths from 200 metre high on the france spain border while reportedly trying to escape brown bear the bodies of were found in village while the rest were found in france the of belonging to french farmer had after the bear attacked one of them end eostok\n",
      "\n",
      "\n",
      "sostok start uk doctors have found 27 contact stuck together in year old woman eye while they were her for surgery the mass was causing her that she attributed to eye and old age doctors said the patient said she had been wearing contact for 35 years but did not attend end eostok\n"
     ]
    }
   ],
   "source": [
    "reverse_target_word_index=y_tokenizer.index_word\n",
    "reverse_source_word_index=x_tokenizer.index_word\n",
    "target_word_index=y_tokenizer.word_index\n",
    "\n",
    "y_tr_text    =   y_tokenizer.sequences_to_texts(y_tr) \n",
    "y_val_text   =   y_tokenizer.sequences_to_texts(y_val)\n",
    "\n",
    "print(y_tr_text[0])\n",
    "print('\\n')\n",
    "print(y_val_text[0])"
   ]
  },
  {
   "cell_type": "code",
   "execution_count": 87,
   "id": "a9a54a99-bb43-44ca-8acf-cede40c64b7d",
   "metadata": {},
   "outputs": [],
   "source": [
    "ind=[]\n",
    "for i in range(len(y_tr)):\n",
    "    cnt=0\n",
    "    for j in y_tr[i]:\n",
    "        if j!=0:\n",
    "            cnt=cnt+1\n",
    "    if(cnt==2):\n",
    "        ind.append(i)\n",
    "\n",
    "y_tr=np.delete(y_tr,ind, axis=0)\n",
    "x_tr=np.delete(x_tr,ind, axis=0)"
   ]
  },
  {
   "cell_type": "code",
   "execution_count": 88,
   "id": "2d70a257-428c-4b57-85f0-4979e18421fc",
   "metadata": {},
   "outputs": [],
   "source": [
    "ind=[]\n",
    "for i in range(len(y_val)):\n",
    "    cnt=0\n",
    "    for j in y_val[i]:\n",
    "        if j!=0:\n",
    "            cnt=cnt+1\n",
    "    if(cnt==2):\n",
    "        ind.append(i)\n",
    "\n",
    "y_val=np.delete(y_val,ind, axis=0)\n",
    "x_val=np.delete(x_val,ind, axis=0)"
   ]
  },
  {
   "cell_type": "code",
   "execution_count": 89,
   "id": "e1c9a5fa-f985-4e3c-be58-7a3439c77b09",
   "metadata": {
    "scrolled": true
   },
   "outputs": [
    {
     "name": "stdout",
     "output_type": "stream",
     "text": [
      "Size of vocabulary from the w2v model = 14500\n",
      "WARNING:tensorflow:From C:\\Users\\User\\AppData\\Local\\Programs\\Python\\Python311\\Lib\\site-packages\\keras\\src\\backend.py:277: The name tf.reset_default_graph is deprecated. Please use tf.compat.v1.reset_default_graph instead.\n",
      "\n",
      "Model: \"model\"\n",
      "__________________________________________________________________________________________________\n",
      " Layer (type)                Output Shape                 Param #   Connected to                  \n",
      "==================================================================================================\n",
      " input_1 (InputLayer)        [(None, 500)]                0         []                            \n",
      "                                                                                                  \n",
      " embedding (Embedding)       (None, 500, 150)             2175000   ['input_1[0][0]']             \n",
      "                                                                                                  \n",
      " lstm (LSTM)                 [(None, 500, 200),           280800    ['embedding[0][0]']           \n",
      "                              (None, 200),                                                        \n",
      "                              (None, 200)]                                                        \n",
      "                                                                                                  \n",
      " input_2 (InputLayer)        [(None, None)]               0         []                            \n",
      "                                                                                                  \n",
      " lstm_1 (LSTM)               [(None, 500, 200),           320800    ['lstm[0][0]']                \n",
      "                              (None, 200),                                                        \n",
      "                              (None, 200)]                                                        \n",
      "                                                                                                  \n",
      " embedding_1 (Embedding)     (None, None, 150)            610050    ['input_2[0][0]']             \n",
      "                                                                                                  \n",
      " lstm_2 (LSTM)               [(None, 500, 200),           320800    ['lstm_1[0][0]']              \n",
      "                              (None, 200),                                                        \n",
      "                              (None, 200)]                                                        \n",
      "                                                                                                  \n",
      " lstm_3 (LSTM)               [(None, None, 200),          280800    ['embedding_1[0][0]',         \n",
      "                              (None, 200),                           'lstm_2[0][1]',              \n",
      "                              (None, 200)]                           'lstm_2[0][2]']              \n",
      "                                                                                                  \n",
      " time_distributed (TimeDist  (None, None, 4067)           817467    ['lstm_3[0][0]']              \n",
      " ributed)                                                                                         \n",
      "                                                                                                  \n",
      "==================================================================================================\n",
      "Total params: 4805717 (18.33 MB)\n",
      "Trainable params: 4805717 (18.33 MB)\n",
      "Non-trainable params: 0 (0.00 Byte)\n",
      "__________________________________________________________________________________________________\n"
     ]
    }
   ],
   "source": [
    "from keras import backend as K \n",
    "import gensim\n",
    "from numpy import *\n",
    "import numpy as np\n",
    "import pandas as pd \n",
    "import re\n",
    "from bs4 import BeautifulSoup\n",
    "from keras.preprocessing.text import Tokenizer \n",
    "from keras.preprocessing.sequence import pad_sequences\n",
    "from nltk.corpus import stopwords\n",
    "from tensorflow.keras.layers import Input, LSTM, Embedding, Dense, Concatenate, TimeDistributed\n",
    "from tensorflow.keras.models import Model\n",
    "from tensorflow.keras.callbacks import EarlyStopping\n",
    "import warnings\n",
    "pd.set_option(\"display.max_colwidth\", 200)\n",
    "warnings.filterwarnings(\"ignore\")\n",
    "\n",
    "print(\"Size of vocabulary from the w2v model = {}\".format(x_voc))\n",
    "\n",
    "K.clear_session()\n",
    "\n",
    "latent_dim = 200\n",
    "embedding_dim=150\n",
    "#def encoder_input(iinput):\n",
    "#    untukinput = Input(shape=(iinput,))\n",
    "#    return untukinput\n",
    "\n",
    "# Encoder\n",
    "encoder_inputs=Input(shape=(max_text_len,)) \n",
    "\n",
    "\n",
    "#embedding layer\n",
    "enc_emb =  Embedding(x_voc, embedding_dim,trainable=True)(encoder_inputs)\n",
    "\n",
    "#encoder lstm 1\n",
    "encoder_lstm1 = LSTM(latent_dim,return_sequences=True,return_state=True,dropout=0.4,recurrent_dropout=0.4)\n",
    "encoder_output1,state_h1,state_c1= encoder_lstm1(enc_emb)\n",
    "\n",
    "#encoder lstm 2\n",
    "encoder_lstm2 = LSTM(latent_dim,return_sequences=True,return_state=True,dropout=0.4,recurrent_dropout=0.4)\n",
    "encoder_output2,state_h2,state_c2 = encoder_lstm2(encoder_output1)\n",
    "\n",
    "#encoder lstm 3\n",
    "encoder_lstm3=LSTM(latent_dim, return_sequences=True,return_state=True,dropout=0.4,recurrent_dropout=0.4)\n",
    "encoder_outputs,state_h,state_c= encoder_lstm3(encoder_output2)\n",
    "\n",
    "# Set up the decoder, using `encoder_states` as initial state.\n",
    "decoder_inputs = Input(shape=(None,))\n",
    "\n",
    "#embedding layer\n",
    "dec_emb_layer = Embedding(y_voc, embedding_dim,trainable=True)\n",
    "dec_emb = dec_emb_layer(decoder_inputs)\n",
    "\n",
    "decoder_lstm = LSTM(latent_dim, return_sequences=True,return_state=True,dropout=0.4,recurrent_dropout=0.2)\n",
    "decoder_outputs,decoder_fwd_states,decoder_back_state= decoder_lstm(dec_emb,initial_state=[state_h,state_c])\n",
    "\n",
    "#dense layer\n",
    "decoder_dense =  TimeDistributed(Dense(y_voc, activation='softmax'))\n",
    "decoder_outputs = decoder_dense(decoder_outputs)\n",
    "\n",
    "#temperature layer\n",
    "temp = keras.layers.Lambda(lambda x: x / temp)\n",
    "\n",
    "# Define the model \n",
    "model = Model([encoder_inputs, decoder_inputs], decoder_outputs)\n",
    "\n",
    "model.summary()\n"
   ]
  },
  {
   "cell_type": "code",
   "execution_count": 90,
   "id": "070ad2d0-ddff-46fb-8517-7302e5fb92d7",
   "metadata": {},
   "outputs": [
    {
     "name": "stdout",
     "output_type": "stream",
     "text": [
      "WARNING:tensorflow:From C:\\Users\\User\\AppData\\Local\\Programs\\Python\\Python311\\Lib\\site-packages\\keras\\src\\optimizers\\__init__.py:309: The name tf.train.Optimizer is deprecated. Please use tf.compat.v1.train.Optimizer instead.\n",
      "\n"
     ]
    }
   ],
   "source": [
    "model.compile(optimizer='rmsprop', loss='sparse_categorical_crossentropy')"
   ]
  },
  {
   "cell_type": "code",
   "execution_count": 93,
   "id": "082e4e21-40f8-40b4-96d7-88fa8369c367",
   "metadata": {},
   "outputs": [],
   "source": [
    "es = EarlyStopping(monitor='val_loss', mode='min', verbose=1,patience=2)"
   ]
  },
  {
   "cell_type": "code",
   "execution_count": 94,
   "id": "a0f4a530-749e-4baf-af71-246f80d53da9",
   "metadata": {},
   "outputs": [
    {
     "name": "stdout",
     "output_type": "stream",
     "text": [
      "Epoch 1/3\n",
      "28/28 [==============================] - 2584s 93s/step - loss: 5.8430 - val_loss: 5.7290\n",
      "Epoch 2/3\n",
      "28/28 [==============================] - 4350s 157s/step - loss: 5.6914 - val_loss: 5.5657\n",
      "Epoch 3/3\n",
      "28/28 [==============================] - 9543s 349s/step - loss: 5.5670 - val_loss: 5.3443\n"
     ]
    }
   ],
   "source": [
    "history=model.fit([x_tr,y_tr[:,:-1]], y_tr.reshape(y_tr.shape[0],y_tr.shape[1], 1)[:,1:] ,epochs=3,callbacks=[es],batch_size=128, validation_data=([x_val,y_val[:,:-1]], y_val.reshape(y_val.shape[0],y_val.shape[1], 1)[:,1:]))\n",
    " "
   ]
  },
  {
   "cell_type": "code",
   "execution_count": 95,
   "id": "e8d56d43-a753-4da9-bc0d-f7f5891a7626",
   "metadata": {},
   "outputs": [
    {
     "data": {
      "image/png": "[encoded data removed]",
      "text/plain": [
       "<Figure size 640x480 with 1 Axes>"
      ]
     },
     "metadata": {},
     "output_type": "display_data"
    }
   ],
   "source": [
    "from matplotlib import pyplot\n",
    "pyplot.plot(history.history['loss'], label='train')\n",
    "pyplot.plot(history.history['val_loss'], label='test')\n",
    "pyplot.legend()\n",
    "pyplot.show()"
   ]
  },
  {
   "cell_type": "code",
   "execution_count": 96,
   "id": "eb9ce84b-c778-4220-b74f-e78fdfe5ede8",
   "metadata": {},
   "outputs": [],
   "source": [
    "reverse_target_word_index=y_tokenizer.index_word\n",
    "reverse_source_word_index=x_tokenizer.index_word\n",
    "target_word_index=y_tokenizer.word_index\n",
    "\n",
    "x_tr_text    =   x_tokenizer.sequences_to_texts(x_tr) \n",
    "x_val_text   =   x_tokenizer.sequences_to_texts(x_val)"
   ]
  },
  {
   "cell_type": "code",
   "execution_count": 97,
   "id": "46e8ac9f-0756-452b-806e-98e24f82f6c4",
   "metadata": {},
   "outputs": [
    {
     "data": {
      "text/plain": [
       "'more than 200 sheep have to their deaths in the while apparently trying to escape brown bear the bears have been to the mountain region over the past three decades after being out by hunters the sheep which belonged to farmer in south west france are thought to have taken when the bear appeared in the area last sunday after the attacked one of the sheep others in the flock panicked and hurled themselves off 200 metre high on the border between france and spain the bodies of 169 sheep were found the next day at the foot of the in the spanish village of the other dead animals were found in france the spanish news agency press said bear fur had been found on one of the dead sheep and would be analysed to try to establish exactly what had happened although the french government will compensate the farmer for his loss the incident has provoked an angry response from the local branch of the french farmers federation which biodiversity and keeps the mountains alive is not compatible with the of large predators said the de the last female brown bear native to the was shot dead by hunters in 2004 the french government has been engaged in programme since the early 1990s using bears from there are now thought to be about 30 brown bears in the region more than 130 sheep died in similar bear related incident in the french last year farmers on both sides of the border blame the bears for attacks on their livestock and the predators are sometimes killed in september last year the of brown bear protected species in spain was found with to the chest in the northern regions of'"
      ]
     },
     "execution_count": 97,
     "metadata": {},
     "output_type": "execute_result"
    }
   ],
   "source": [
    "x_tr_text[0]"
   ]
  },
  {
   "cell_type": "code",
   "execution_count": 98,
   "id": "3d9911c0-1bb5-41a2-b607-3c87e82727fc",
   "metadata": {},
   "outputs": [],
   "source": [
    "# Encode the input sequence to get the feature vector\n",
    "encoder_model = Model(inputs=encoder_inputs,outputs=[encoder_outputs, state_h, state_c])\n",
    "\n",
    "# Decoder setup\n",
    "# Below tensors will hold the states of the previous time step\n",
    "decoder_state_input_h = Input(shape=(latent_dim,))\n",
    "decoder_state_input_c = Input(shape=(latent_dim,))\n",
    "decoder_hidden_state_input = Input(shape=(max_text_len,latent_dim))\n",
    "\n",
    "# Get the embeddings of the decoder sequence\n",
    "dec_emb2= dec_emb_layer(decoder_inputs) \n",
    "# To predict the next word in the sequence, set the initial states to the states from the previous time step\n",
    "decoder_outputs2, state_h2, state_c2 = decoder_lstm(dec_emb2, initial_state=[decoder_state_input_h, decoder_state_input_c])\n",
    "\n",
    "# A dense softmax layer to generate prob dist. over the target vocabulary\n",
    "decoder_outputs2 = decoder_dense(decoder_outputs2) \n",
    "\n",
    "# Final decoder model\n",
    "decoder_model = Model(\n",
    "    [decoder_inputs] + [decoder_hidden_state_input,decoder_state_input_h,decoder_state_input_c],\n",
    "    [decoder_outputs2]+[state_h2,state_c2])"
   ]
  },
  {
   "cell_type": "code",
   "execution_count": 99,
   "id": "0c02577a-fd38-4f34-b336-0a7a9b63b4f8",
   "metadata": {},
   "outputs": [],
   "source": [
    "#encoder_model = Model(inputs=encoder_inputs,outputs=[encoder_outputs, state_h, state_c])\n",
    "#encoder_model.predict(x_tr_seq[0])"
   ]
  },
  {
   "cell_type": "code",
   "execution_count": 100,
   "id": "04967b31-2658-470c-941b-ff967a6c30cd",
   "metadata": {},
   "outputs": [],
   "source": [
    "def decode_sequence(input_seq):\n",
    "    # Encode the input as state vectors.\n",
    "    e_out, e_h, e_c = encoder_model.predict(input_seq)\n",
    "    \n",
    "    \n",
    "    # Generate empty target sequence of length 1.\n",
    "    target_seq = np.zeros((1,1))\n",
    "    \n",
    "    \n",
    "    # Populate the first word of target sequence with the start word.\n",
    "    target_seq[0, 0] = target_word_index['sostok']\n",
    "    print(target_seq[0,0])\n",
    "\n",
    "    stop_condition = False\n",
    "    decoded_sentence = ''\n",
    "    while not stop_condition:\n",
    "      \n",
    "        output_tokens, h, c = decoder_model.predict([target_seq] + [e_out, e_h, e_c])\n",
    " \n",
    "\n",
    "        # Sample a token\n",
    "        sampled_token_index = np.argmax(output_tokens[0, -1, :])\n",
    "        print('sample index = ',sampled_token_index)\n",
    "        #\n",
    "        #sampled_token = reverse_target_word_index[sampled_token_index]\n",
    "        #print(sampled_token)\n",
    "        #if(sampled_token!='eostok'):\n",
    "        #    decoded_sentence += ' '+sampled_token\n",
    "        #    # Exit condition: either hit max length or find stop word.\n",
    "        #if (sampled_token == 'eostok'  or len(decoded_sentence.split()) >= (max_summary_len-1)):\n",
    "        #    stop_condition = True\n",
    "    #\n",
    "        try:\n",
    "            sampled_token = reverse_target_word_index[sampled_token_index]\n",
    "            print('sample token=',sampled_token)\n",
    "            if(sampled_token!='eostok'):\n",
    "                decoded_sentence += ' '+sampled_token\n",
    "            # Exit condition: either hit max length or find stop word.\n",
    "            \n",
    "            if (sampled_token == 'eostok'  or len(decoded_sentence.split()) >= (max_summary_len-1)):\n",
    "                stop_condition = True\n",
    "        except KeyError:\n",
    "            print(\"Key not found\")\n",
    "            break\n",
    "        print('decoded =',decoded_sentence)\n",
    "        \n",
    "#try:\n",
    "#    print(my_dict[key])\n",
    "#except KeyError:\n",
    "#    print(\"Key not found\")\n",
    "    \n",
    "\n",
    "        # Update the target sequence (of length 1).\n",
    "        target_seq = np.zeros((1,1))\n",
    "        target_seq[0, 0] = sampled_token_index\n",
    "\n",
    "        # Update internal states\n",
    "        e_h, e_c = h, c\n",
    "\n",
    "    return decoded_sentence"
   ]
  },
  {
   "cell_type": "code",
   "execution_count": 105,
   "id": "9503ab8c-2b3e-4f8d-840a-3da281b06561",
   "metadata": {},
   "outputs": [
    {
     "name": "stdout",
     "output_type": "stream",
     "text": [
      "[   69   117  1054  7770    21     2    40  2008     4     1    74  1467\n",
      "   567     2  3420  3174  3335     1  9024    21    31     2     1  6066\n",
      "   693    60     1   384    99  2113    32    80    55    16  9025     1\n",
      "  7770    39  3760     2  2372     4   305   466  1944    26   896     2\n",
      "    21   170    50     1  3335  1595     4     1   258    77   453    32\n",
      "     1   970    48     3     1  7770   410     4     1 11022 11023     5\n",
      "  5027  1290   150  1054  4635   149     6     1   500   166  1944     5\n",
      "  3642     1  1120     3 11024  7770    33   172     1   198    95    18\n",
      "     1  2227     3     1     4     1  6813   458     3     1    83   720\n",
      "  1396    33   172     4  1944     1  6813   321   521   732    10  3335\n",
      " 12446    27    31   172     6    48     3     1   720  7770     5    61\n",
      "    20  7771     2  1354     2  4026  3175   104    27   661  1415     1\n",
      "  2228    43    23  6067     1  2372     7    22   924     1   169    15\n",
      " 11025    28  2114   733    19     1   399  1663     3     1  2228   449\n",
      "  2986    39 12447     5  4027     1  8346  2666     9    24 12448    12\n",
      "     1     3   792  9884    10     1  1596     1    77  1024  3174  3335\n",
      "  3643     2     1    11   702   720    16  9025     4  2987     1  2228\n",
      "    43    15    31  2609     4  1129   147     1   839 11026   441  9024\n",
      "    19    54    26    86   896     2    20    49   278  3174  9024     4\n",
      "     1   693    69   117  4150  7770   618     4   793  3335  1006   169\n",
      "     4     1  2228    77    42   449     6   215  2196     3     1   500\n",
      "  4636     1  9024     7   986     6    40  9885     5     1  9884    26\n",
      "  2044   370     4   987    77    42     1     3  3174  3335  3644  3645\n",
      "     4  3642    11   172    12     2     1  5028     4     1  4151  5482\n",
      "     3     0     0     0     0     0     0     0     0     0     0     0\n",
      "     0     0     0     0     0     0     0     0     0     0     0     0\n",
      "     0     0     0     0     0     0     0     0     0     0     0     0\n",
      "     0     0     0     0     0     0     0     0     0     0     0     0\n",
      "     0     0     0     0     0     0     0     0     0     0     0     0\n",
      "     0     0     0     0     0     0     0     0     0     0     0     0\n",
      "     0     0     0     0     0     0     0     0     0     0     0     0\n",
      "     0     0     0     0     0     0     0     0     0     0     0     0\n",
      "     0     0     0     0     0     0     0     0     0     0     0     0\n",
      "     0     0     0     0     0     0     0     0     0     0     0     0\n",
      "     0     0     0     0     0     0     0     0     0     0     0     0\n",
      "     0     0     0     0     0     0     0     0     0     0     0     0\n",
      "     0     0     0     0     0     0     0     0     0     0     0     0\n",
      "     0     0     0     0     0     0     0     0     0     0     0     0\n",
      "     0     0     0     0     0     0     0     0     0     0     0     0\n",
      "     0     0     0     0     0     0     0     0     0     0     0     0\n",
      "     0     0     0     0     0     0     0     0     0     0     0     0\n",
      "     0     0     0     0     0     0     0     0]\n",
      "more than 200 sheep have to their deaths in the while apparently trying to escape brown bear the bears have been to the mountain region over the past three decades after being out by hunters the sheep which belonged to farmer in south west france are thought to have taken when the bear appeared in the area last sunday after the attacked one of the sheep others in the flock panicked and hurled themselves off 200 metre high on the border between france and spain the bodies of 169 sheep were found the next day at the foot of the in the spanish village of the other dead animals were found in france the spanish news agency press said bear fur had been found on one of the dead sheep and would be analysed to try to establish exactly what had happened although the french government will compensate the farmer for his loss the incident has provoked an angry response from the local branch of the french farmers federation which biodiversity and keeps the mountains alive is not compatible with the of large predators said the de the last female brown bear native to the was shot dead by hunters in 2004 the french government has been engaged in programme since the early 1990s using bears from there are now thought to be about 30 brown bears in the region more than 130 sheep died in similar bear related incident in the french last year farmers on both sides of the border blame the bears for attacks on their livestock and the predators are sometimes killed in september last year the of brown bear protected species in spain was found with to the chest in the northern regions of\n",
      "(500,)\n"
     ]
    }
   ],
   "source": [
    "print(x_tr[0])\n",
    "print(x_tr_text[0])\n",
    "print(np.shape(x_tr[40]))"
   ]
  },
  {
   "cell_type": "code",
   "execution_count": null,
   "id": "cad98de8-ab73-4570-be9d-98bf5b11ead5",
   "metadata": {},
   "outputs": [],
   "source": []
  },
  {
   "cell_type": "code",
   "execution_count": 104,
   "id": "24b38191-30cc-4f62-924f-5b457d789600",
   "metadata": {},
   "outputs": [],
   "source": [
    "def seq2summary(input_seq):\n",
    "    newString=''\n",
    "    for i in input_seq:\n",
    "        if((i!=0 and i!=target_word_index['sostok']) and i!=target_word_index['eostok']):\n",
    "            newString=newString+reverse_target_word_index[i]+' '\n",
    "    return newString\n",
    "\n",
    "def seq2text(input_seq):\n",
    "    newString=''\n",
    "    for i in input_seq:\n",
    "        if(i!=0):\n",
    "            newString=newString+reverse_source_word_index[i]+' '\n",
    "    return newString"
   ]
  },
  {
   "cell_type": "code",
   "execution_count": 163,
   "id": "76de6cee-8035-46dc-b263-439e2282a03b",
   "metadata": {},
   "outputs": [
    {
     "name": "stdout",
     "output_type": "stream",
     "text": [
      "Review: the police has banned in groups in leone citing public order and safety the police accused people in groups of insults traffic on vehicles playing music and property from other members of the public it said violators will be with according to law you have been warned \n",
      "Original summary: start bans in groups end \n",
      "shape dari i: (100,)\n",
      "type= <class 'numpy.ndarray'>\n",
      "1/1 [==============================] - 0s 476ms/step\n",
      "3.0\n",
      "1/1 [==============================] - 0s 29ms/step\n",
      "sample index =  2\n",
      "sample token= start\n",
      "decoded =  start\n",
      "1/1 [==============================] - 0s 30ms/step\n",
      "sample index =  11\n",
      "sample token= delhi\n",
      "decoded =  start delhi\n",
      "1/1 [==============================] - 0s 28ms/step\n",
      "sample index =  5\n",
      "sample token= to\n",
      "decoded =  start delhi to\n",
      "1/1 [==============================] - 0s 34ms/step\n",
      "sample index =  5\n",
      "sample token= to\n",
      "decoded =  start delhi to to\n",
      "1/1 [==============================] - 0s 27ms/step\n",
      "sample index =  5\n",
      "sample token= to\n",
      "decoded =  start delhi to to to\n",
      "1/1 [==============================] - 0s 29ms/step\n",
      "sample index =  1\n",
      "sample token= end\n",
      "decoded =  start delhi to to to end\n",
      "1/1 [==============================] - 0s 30ms/step\n",
      "sample index =  4\n",
      "sample token= eostok\n",
      "decoded =  start delhi to to to end\n",
      "Predicted summary:  start delhi to to to end\n",
      "\n",
      "\n",
      "Review: thirty two year old jammu and kashmir police officer ahmed dar who was buried on friday had written facebook post just yourself in your grave down there in that dark hole alone dar along with five other policemen was killed on friday in an in in anantnag district by suspected lashkar e taiba let militants \n",
      "Original summary: start just in cop on end \n",
      "shape dari i: (100,)\n",
      "type= <class 'numpy.ndarray'>\n",
      "1/1 [==============================] - 0s 472ms/step\n",
      "3.0\n",
      "1/1 [==============================] - 0s 32ms/step\n",
      "sample index =  2\n",
      "sample token= start\n",
      "decoded =  start\n",
      "1/1 [==============================] - 0s 31ms/step\n",
      "sample index =  11\n",
      "sample token= delhi\n",
      "decoded =  start delhi\n",
      "1/1 [==============================] - 0s 32ms/step\n",
      "sample index =  5\n",
      "sample token= to\n",
      "decoded =  start delhi to\n",
      "1/1 [==============================] - 0s 29ms/step\n",
      "sample index =  5\n",
      "sample token= to\n",
      "decoded =  start delhi to to\n",
      "1/1 [==============================] - 0s 27ms/step\n",
      "sample index =  5\n",
      "sample token= to\n",
      "decoded =  start delhi to to to\n",
      "1/1 [==============================] - 0s 29ms/step\n",
      "sample index =  1\n",
      "sample token= end\n",
      "decoded =  start delhi to to to end\n",
      "1/1 [==============================] - 0s 29ms/step\n",
      "sample index =  4\n",
      "sample token= eostok\n",
      "decoded =  start delhi to to to end\n",
      "Predicted summary:  start delhi to to to end\n",
      "\n",
      "\n",
      "Review: for changing the names of the central government schemes bjp leader chandra kumar bose compared west bengal cm mamata banerjee to mughal babur who demolished ram temple in ayodhya and built babri masjid think it very of mamata to give name at the state level for the same scheme which the centre has actually adopted bose added \n",
      "Original summary: start bjp leader calls mamata for centre scheme end \n",
      "shape dari i: (100,)\n",
      "type= <class 'numpy.ndarray'>\n",
      "1/1 [==============================] - 0s 479ms/step\n",
      "3.0\n",
      "1/1 [==============================] - 0s 27ms/step\n",
      "sample index =  2\n",
      "sample token= start\n",
      "decoded =  start\n",
      "1/1 [==============================] - 0s 25ms/step\n",
      "sample index =  11\n",
      "sample token= delhi\n",
      "decoded =  start delhi\n",
      "1/1 [==============================] - 0s 30ms/step\n",
      "sample index =  5\n",
      "sample token= to\n",
      "decoded =  start delhi to\n",
      "1/1 [==============================] - 0s 28ms/step\n",
      "sample index =  5\n",
      "sample token= to\n",
      "decoded =  start delhi to to\n",
      "1/1 [==============================] - 0s 30ms/step\n",
      "sample index =  5\n",
      "sample token= to\n",
      "decoded =  start delhi to to to\n",
      "1/1 [==============================] - 0s 28ms/step\n",
      "sample index =  1\n",
      "sample token= end\n",
      "decoded =  start delhi to to to end\n",
      "1/1 [==============================] - 0s 26ms/step\n",
      "sample index =  4\n",
      "sample token= eostok\n",
      "decoded =  start delhi to to to end\n",
      "Predicted summary:  start delhi to to to end\n",
      "\n",
      "\n",
      "Review: delhi deputy chief minister manish sisodia on saturday claimed that his twitter account was hacked after anti hazare messages were from his account someone anti hazare messages from account trying to them not even getting deleted he said don believe them have greatest respect for can never say such things against him he added \n",
      "Original summary: start claims twitter after anti tweets appear end \n",
      "shape dari i: (100,)\n",
      "type= <class 'numpy.ndarray'>\n",
      "1/1 [==============================] - 0s 457ms/step\n",
      "3.0\n",
      "1/1 [==============================] - 0s 31ms/step\n",
      "sample index =  2\n",
      "sample token= start\n",
      "decoded =  start\n",
      "1/1 [==============================] - 0s 25ms/step\n",
      "sample index =  11\n",
      "sample token= delhi\n",
      "decoded =  start delhi\n",
      "1/1 [==============================] - 0s 29ms/step\n",
      "sample index =  5\n",
      "sample token= to\n",
      "decoded =  start delhi to\n",
      "1/1 [==============================] - 0s 28ms/step\n",
      "sample index =  5\n",
      "sample token= to\n",
      "decoded =  start delhi to to\n",
      "1/1 [==============================] - 0s 28ms/step\n",
      "sample index =  5\n",
      "sample token= to\n",
      "decoded =  start delhi to to to\n",
      "1/1 [==============================] - 0s 28ms/step\n",
      "sample index =  1\n",
      "sample token= end\n",
      "decoded =  start delhi to to to end\n",
      "1/1 [==============================] - 0s 29ms/step\n",
      "sample index =  4\n",
      "sample token= eostok\n",
      "decoded =  start delhi to to to end\n",
      "Predicted summary:  start delhi to to to end\n",
      "\n",
      "\n",
      "Review: pacer who appeared in five tests and 61 one day for south africa has been charged with match fixing by the nation cricket board the charges are related to south africa domestic series held in 2015 six other players have already been banned for trying to fix the outcome of matches in the t20 league \n",
      "Original summary: start south international charged with match fixing end \n",
      "shape dari i: (100,)\n",
      "type= <class 'numpy.ndarray'>\n",
      "1/1 [==============================] - 0s 450ms/step\n",
      "3.0\n",
      "1/1 [==============================] - 0s 27ms/step\n",
      "sample index =  2\n",
      "sample token= start\n",
      "decoded =  start\n",
      "1/1 [==============================] - 0s 28ms/step\n",
      "sample index =  11\n",
      "sample token= delhi\n",
      "decoded =  start delhi\n",
      "1/1 [==============================] - 0s 33ms/step\n",
      "sample index =  5\n",
      "sample token= to\n",
      "decoded =  start delhi to\n",
      "1/1 [==============================] - 0s 28ms/step\n",
      "sample index =  5\n",
      "sample token= to\n",
      "decoded =  start delhi to to\n",
      "1/1 [==============================] - 0s 31ms/step\n",
      "sample index =  5\n",
      "sample token= to\n",
      "decoded =  start delhi to to to\n",
      "1/1 [==============================] - 0s 26ms/step\n",
      "sample index =  1\n",
      "sample token= end\n",
      "decoded =  start delhi to to to end\n",
      "1/1 [==============================] - 0s 29ms/step\n",
      "sample index =  4\n",
      "sample token= eostok\n",
      "decoded =  start delhi to to to end\n",
      "Predicted summary:  start delhi to to to end\n",
      "\n",
      "\n"
     ]
    }
   ],
   "source": [
    "for i in range(0,5):\n",
    "    print(\"Review:\",seq2text(x_tr[i]))\n",
    "    print(\"Original summary:\",seq2summary(y_tr[i]))\n",
    "    print('shape dari i:',np.shape(x_tr[i]))\n",
    "    print('type=',type(x_tr[i])),\n",
    "    print(\"Predicted summary:\",decode_sequence(x_tr[i].reshape(1,max_text_len)))\n",
    "    print(\"\\n\")"
   ]
  },
  {
   "cell_type": "code",
   "execution_count": null,
   "id": "8db28055-47d3-4e6a-ab58-1d01af116004",
   "metadata": {},
   "outputs": [],
   "source": []
  },
  {
   "cell_type": "code",
   "execution_count": null,
   "id": "35f41b34-2012-498f-869e-fe613eb15ea0",
   "metadata": {},
   "outputs": [],
   "source": []
  },
  {
   "cell_type": "code",
   "execution_count": null,
   "id": "bcbaa82e-5afc-4b81-9745-6cd4b95d9ff7",
   "metadata": {},
   "outputs": [],
   "source": []
  }
 ],
 "metadata": {
  "kernelspec": {
   "display_name": "Python 3 (ipykernel)",
   "language": "python",
   "name": "python3"
  },
  "language_info": {
   "codemirror_mode": {
    "name": "ipython",
    "version": 3
   },
   "file_extension": ".py",
   "mimetype": "text/x-python",
   "name": "python",
   "nbconvert_exporter": "python",
   "pygments_lexer": "ipython3",
   "version": "3.11.1"
  }
 },
 "nbformat": 4,
 "nbformat_minor": 5
}
